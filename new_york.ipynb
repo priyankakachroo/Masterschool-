{
 "cells": [
  {
   "cell_type": "markdown",
   "metadata": {},
   "source": [
    "# NYC Short-Term Rental Insights\n",
    "\n",
    "You work as a Data Analyst for a real estate start-up (Pillow Palooza). The main objective of your job is to provide insight into the short-term rental market in New York City. In a competitive market, it is your goal to help the start-up identify opportunities for growth and success.\n",
    "\n",
    "Questions solved during the analysis:\n",
    "1. What are the most popular neighborhoods for short-term rentals in New York City?\n",
    "2. What is the average rental price for short-term rentals in New York City, and how does it vary by neighborhood and property type?\n",
    "3. What are the most commonly rented property types on Airbnb in New York City, and how does this vary by neighborhood?\n",
    "4. What is the average length of stay for short-term rentals in New York City, and how does this vary by neighborhood and property type?\n",
    "5. How has demand for short-term rentals in New York City changed over time, and are there any seasonal trends that could impact business decisions?"
   ]
  },
  {
   "cell_type": "markdown",
   "metadata": {},
   "source": [
    "### Step 1. Open the data file and study the general information. "
   ]
  },
  {
   "cell_type": "code",
   "execution_count": 8,
   "metadata": {},
   "outputs": [
    {
     "data": {
      "text/html": [
       "<div>\n",
       "<style scoped>\n",
       "    .dataframe tbody tr th:only-of-type {\n",
       "        vertical-align: middle;\n",
       "    }\n",
       "\n",
       "    .dataframe tbody tr th {\n",
       "        vertical-align: top;\n",
       "    }\n",
       "\n",
       "    .dataframe thead th {\n",
       "        text-align: right;\n",
       "    }\n",
       "</style>\n",
       "<table border=\"1\" class=\"dataframe\">\n",
       "  <thead>\n",
       "    <tr style=\"text-align: right;\">\n",
       "      <th></th>\n",
       "      <th>Unnamed: 0</th>\n",
       "      <th>listing_id</th>\n",
       "      <th>price</th>\n",
       "      <th>borough</th>\n",
       "      <th>neighbourhood</th>\n",
       "      <th>price_per_month</th>\n",
       "      <th>latitude</th>\n",
       "      <th>longitude</th>\n",
       "    </tr>\n",
       "  </thead>\n",
       "  <tbody>\n",
       "    <tr>\n",
       "      <th>0</th>\n",
       "      <td>0</td>\n",
       "      <td>2595</td>\n",
       "      <td>225</td>\n",
       "      <td>Manhattan</td>\n",
       "      <td>Midtown</td>\n",
       "      <td>6843.750000</td>\n",
       "      <td>40.75362</td>\n",
       "      <td>-73.98377</td>\n",
       "    </tr>\n",
       "    <tr>\n",
       "      <th>1</th>\n",
       "      <td>1</td>\n",
       "      <td>3831</td>\n",
       "      <td>89</td>\n",
       "      <td>Brooklyn</td>\n",
       "      <td>Clinton Hill</td>\n",
       "      <td>2707.083333</td>\n",
       "      <td>40.68514</td>\n",
       "      <td>-73.95976</td>\n",
       "    </tr>\n",
       "    <tr>\n",
       "      <th>2</th>\n",
       "      <td>2</td>\n",
       "      <td>5099</td>\n",
       "      <td>200</td>\n",
       "      <td>Manhattan</td>\n",
       "      <td>Murray Hill</td>\n",
       "      <td>6083.333333</td>\n",
       "      <td>40.74767</td>\n",
       "      <td>-73.97500</td>\n",
       "    </tr>\n",
       "    <tr>\n",
       "      <th>3</th>\n",
       "      <td>3</td>\n",
       "      <td>5178</td>\n",
       "      <td>79</td>\n",
       "      <td>Manhattan</td>\n",
       "      <td>Hell's Kitchen</td>\n",
       "      <td>2402.916667</td>\n",
       "      <td>40.76489</td>\n",
       "      <td>-73.98493</td>\n",
       "    </tr>\n",
       "    <tr>\n",
       "      <th>4</th>\n",
       "      <td>4</td>\n",
       "      <td>5238</td>\n",
       "      <td>150</td>\n",
       "      <td>Manhattan</td>\n",
       "      <td>Chinatown</td>\n",
       "      <td>4562.500000</td>\n",
       "      <td>40.71344</td>\n",
       "      <td>-73.99037</td>\n",
       "    </tr>\n",
       "    <tr>\n",
       "      <th>5</th>\n",
       "      <td>5</td>\n",
       "      <td>5295</td>\n",
       "      <td>135</td>\n",
       "      <td>Manhattan</td>\n",
       "      <td>Upper West Side</td>\n",
       "      <td>4106.250000</td>\n",
       "      <td>40.80316</td>\n",
       "      <td>-73.96545</td>\n",
       "    </tr>\n",
       "    <tr>\n",
       "      <th>6</th>\n",
       "      <td>6</td>\n",
       "      <td>5441</td>\n",
       "      <td>85</td>\n",
       "      <td>Manhattan</td>\n",
       "      <td>Hell's Kitchen</td>\n",
       "      <td>2585.416667</td>\n",
       "      <td>40.76076</td>\n",
       "      <td>-73.98867</td>\n",
       "    </tr>\n",
       "    <tr>\n",
       "      <th>7</th>\n",
       "      <td>7</td>\n",
       "      <td>5803</td>\n",
       "      <td>89</td>\n",
       "      <td>Brooklyn</td>\n",
       "      <td>South Slope</td>\n",
       "      <td>2707.083333</td>\n",
       "      <td>40.66829</td>\n",
       "      <td>-73.98779</td>\n",
       "    </tr>\n",
       "    <tr>\n",
       "      <th>8</th>\n",
       "      <td>8</td>\n",
       "      <td>6021</td>\n",
       "      <td>85</td>\n",
       "      <td>Manhattan</td>\n",
       "      <td>Upper West Side</td>\n",
       "      <td>2585.416667</td>\n",
       "      <td>40.79826</td>\n",
       "      <td>-73.96113</td>\n",
       "    </tr>\n",
       "    <tr>\n",
       "      <th>9</th>\n",
       "      <td>9</td>\n",
       "      <td>6848</td>\n",
       "      <td>140</td>\n",
       "      <td>Brooklyn</td>\n",
       "      <td>Williamsburg</td>\n",
       "      <td>4258.333333</td>\n",
       "      <td>40.70837</td>\n",
       "      <td>-73.95352</td>\n",
       "    </tr>\n",
       "    <tr>\n",
       "      <th>10</th>\n",
       "      <td>10</td>\n",
       "      <td>7097</td>\n",
       "      <td>215</td>\n",
       "      <td>Brooklyn</td>\n",
       "      <td>Fort Greene</td>\n",
       "      <td>6539.583333</td>\n",
       "      <td>40.69169</td>\n",
       "      <td>-73.97185</td>\n",
       "    </tr>\n",
       "    <tr>\n",
       "      <th>11</th>\n",
       "      <td>11</td>\n",
       "      <td>7322</td>\n",
       "      <td>140</td>\n",
       "      <td>Manhattan</td>\n",
       "      <td>Chelsea</td>\n",
       "      <td>4258.333333</td>\n",
       "      <td>40.74192</td>\n",
       "      <td>-73.99501</td>\n",
       "    </tr>\n",
       "    <tr>\n",
       "      <th>12</th>\n",
       "      <td>12</td>\n",
       "      <td>7726</td>\n",
       "      <td>99</td>\n",
       "      <td>Brooklyn</td>\n",
       "      <td>Crown Heights</td>\n",
       "      <td>3011.250000</td>\n",
       "      <td>40.67592</td>\n",
       "      <td>-73.94694</td>\n",
       "    </tr>\n",
       "    <tr>\n",
       "      <th>13</th>\n",
       "      <td>13</td>\n",
       "      <td>8024</td>\n",
       "      <td>130</td>\n",
       "      <td>Brooklyn</td>\n",
       "      <td>Park Slope</td>\n",
       "      <td>3954.166667</td>\n",
       "      <td>40.68069</td>\n",
       "      <td>-73.97706</td>\n",
       "    </tr>\n",
       "    <tr>\n",
       "      <th>14</th>\n",
       "      <td>14</td>\n",
       "      <td>8025</td>\n",
       "      <td>80</td>\n",
       "      <td>Brooklyn</td>\n",
       "      <td>Park Slope</td>\n",
       "      <td>2433.333333</td>\n",
       "      <td>40.67989</td>\n",
       "      <td>-73.97798</td>\n",
       "    </tr>\n",
       "    <tr>\n",
       "      <th>15</th>\n",
       "      <td>15</td>\n",
       "      <td>8110</td>\n",
       "      <td>110</td>\n",
       "      <td>Brooklyn</td>\n",
       "      <td>Park Slope</td>\n",
       "      <td>3345.833333</td>\n",
       "      <td>40.68001</td>\n",
       "      <td>-73.97865</td>\n",
       "    </tr>\n",
       "    <tr>\n",
       "      <th>16</th>\n",
       "      <td>16</td>\n",
       "      <td>8490</td>\n",
       "      <td>120</td>\n",
       "      <td>Brooklyn</td>\n",
       "      <td>Bedford-Stuyvesant</td>\n",
       "      <td>3650.000000</td>\n",
       "      <td>40.68371</td>\n",
       "      <td>-73.94028</td>\n",
       "    </tr>\n",
       "    <tr>\n",
       "      <th>17</th>\n",
       "      <td>17</td>\n",
       "      <td>8505</td>\n",
       "      <td>60</td>\n",
       "      <td>Brooklyn</td>\n",
       "      <td>Windsor Terrace</td>\n",
       "      <td>1825.000000</td>\n",
       "      <td>40.65599</td>\n",
       "      <td>-73.97519</td>\n",
       "    </tr>\n",
       "    <tr>\n",
       "      <th>18</th>\n",
       "      <td>18</td>\n",
       "      <td>9518</td>\n",
       "      <td>44</td>\n",
       "      <td>Manhattan</td>\n",
       "      <td>Inwood</td>\n",
       "      <td>1338.333333</td>\n",
       "      <td>40.86482</td>\n",
       "      <td>-73.92106</td>\n",
       "    </tr>\n",
       "    <tr>\n",
       "      <th>19</th>\n",
       "      <td>19</td>\n",
       "      <td>9657</td>\n",
       "      <td>180</td>\n",
       "      <td>Manhattan</td>\n",
       "      <td>East Village</td>\n",
       "      <td>5475.000000</td>\n",
       "      <td>40.72920</td>\n",
       "      <td>-73.98542</td>\n",
       "    </tr>\n",
       "    <tr>\n",
       "      <th>20</th>\n",
       "      <td>20</td>\n",
       "      <td>9668</td>\n",
       "      <td>50</td>\n",
       "      <td>Manhattan</td>\n",
       "      <td>Harlem</td>\n",
       "      <td>1520.833333</td>\n",
       "      <td>40.82245</td>\n",
       "      <td>-73.95104</td>\n",
       "    </tr>\n",
       "    <tr>\n",
       "      <th>21</th>\n",
       "      <td>21</td>\n",
       "      <td>9704</td>\n",
       "      <td>52</td>\n",
       "      <td>Manhattan</td>\n",
       "      <td>Harlem</td>\n",
       "      <td>1581.666667</td>\n",
       "      <td>40.81305</td>\n",
       "      <td>-73.95466</td>\n",
       "    </tr>\n",
       "    <tr>\n",
       "      <th>22</th>\n",
       "      <td>22</td>\n",
       "      <td>9782</td>\n",
       "      <td>55</td>\n",
       "      <td>Brooklyn</td>\n",
       "      <td>Greenpoint</td>\n",
       "      <td>1672.916667</td>\n",
       "      <td>40.72219</td>\n",
       "      <td>-73.93762</td>\n",
       "    </tr>\n",
       "    <tr>\n",
       "      <th>23</th>\n",
       "      <td>23</td>\n",
       "      <td>9783</td>\n",
       "      <td>50</td>\n",
       "      <td>Manhattan</td>\n",
       "      <td>Harlem</td>\n",
       "      <td>1520.833333</td>\n",
       "      <td>40.82130</td>\n",
       "      <td>-73.95318</td>\n",
       "    </tr>\n",
       "    <tr>\n",
       "      <th>24</th>\n",
       "      <td>24</td>\n",
       "      <td>10452</td>\n",
       "      <td>70</td>\n",
       "      <td>Brooklyn</td>\n",
       "      <td>Bedford-Stuyvesant</td>\n",
       "      <td>2129.166667</td>\n",
       "      <td>40.68310</td>\n",
       "      <td>-73.95473</td>\n",
       "    </tr>\n",
       "    <tr>\n",
       "      <th>25</th>\n",
       "      <td>25</td>\n",
       "      <td>10962</td>\n",
       "      <td>89</td>\n",
       "      <td>Brooklyn</td>\n",
       "      <td>South Slope</td>\n",
       "      <td>2707.083333</td>\n",
       "      <td>40.66869</td>\n",
       "      <td>-73.98780</td>\n",
       "    </tr>\n",
       "    <tr>\n",
       "      <th>26</th>\n",
       "      <td>26</td>\n",
       "      <td>11708</td>\n",
       "      <td>85</td>\n",
       "      <td>Brooklyn</td>\n",
       "      <td>Bushwick</td>\n",
       "      <td>2585.416667</td>\n",
       "      <td>40.70186</td>\n",
       "      <td>-73.92745</td>\n",
       "    </tr>\n",
       "    <tr>\n",
       "      <th>27</th>\n",
       "      <td>27</td>\n",
       "      <td>12048</td>\n",
       "      <td>40</td>\n",
       "      <td>Manhattan</td>\n",
       "      <td>Lower East Side</td>\n",
       "      <td>1216.666667</td>\n",
       "      <td>40.71401</td>\n",
       "      <td>-73.98917</td>\n",
       "    </tr>\n",
       "    <tr>\n",
       "      <th>28</th>\n",
       "      <td>28</td>\n",
       "      <td>12192</td>\n",
       "      <td>68</td>\n",
       "      <td>Manhattan</td>\n",
       "      <td>East Village</td>\n",
       "      <td>2068.333333</td>\n",
       "      <td>40.72290</td>\n",
       "      <td>-73.98199</td>\n",
       "    </tr>\n",
       "    <tr>\n",
       "      <th>29</th>\n",
       "      <td>29</td>\n",
       "      <td>12299</td>\n",
       "      <td>120</td>\n",
       "      <td>Brooklyn</td>\n",
       "      <td>South Slope</td>\n",
       "      <td>3650.000000</td>\n",
       "      <td>40.66278</td>\n",
       "      <td>-73.97966</td>\n",
       "    </tr>\n",
       "  </tbody>\n",
       "</table>\n",
       "</div>"
      ],
      "text/plain": [
       "    Unnamed: 0  listing_id  price    borough        neighbourhood  \\\n",
       "0            0        2595    225  Manhattan              Midtown   \n",
       "1            1        3831     89   Brooklyn         Clinton Hill   \n",
       "2            2        5099    200  Manhattan          Murray Hill   \n",
       "3            3        5178     79  Manhattan       Hell's Kitchen   \n",
       "4            4        5238    150  Manhattan            Chinatown   \n",
       "5            5        5295    135  Manhattan      Upper West Side   \n",
       "6            6        5441     85  Manhattan       Hell's Kitchen   \n",
       "7            7        5803     89   Brooklyn          South Slope   \n",
       "8            8        6021     85  Manhattan      Upper West Side   \n",
       "9            9        6848    140   Brooklyn         Williamsburg   \n",
       "10          10        7097    215   Brooklyn          Fort Greene   \n",
       "11          11        7322    140  Manhattan              Chelsea   \n",
       "12          12        7726     99   Brooklyn        Crown Heights   \n",
       "13          13        8024    130   Brooklyn           Park Slope   \n",
       "14          14        8025     80   Brooklyn           Park Slope   \n",
       "15          15        8110    110   Brooklyn           Park Slope   \n",
       "16          16        8490    120   Brooklyn   Bedford-Stuyvesant   \n",
       "17          17        8505     60   Brooklyn      Windsor Terrace   \n",
       "18          18        9518     44  Manhattan               Inwood   \n",
       "19          19        9657    180  Manhattan         East Village   \n",
       "20          20        9668     50  Manhattan               Harlem   \n",
       "21          21        9704     52  Manhattan               Harlem   \n",
       "22          22        9782     55   Brooklyn           Greenpoint   \n",
       "23          23        9783     50  Manhattan               Harlem   \n",
       "24          24       10452     70   Brooklyn   Bedford-Stuyvesant   \n",
       "25          25       10962     89   Brooklyn          South Slope   \n",
       "26          26       11708     85   Brooklyn             Bushwick   \n",
       "27          27       12048     40  Manhattan      Lower East Side   \n",
       "28          28       12192     68  Manhattan         East Village   \n",
       "29          29       12299    120   Brooklyn          South Slope   \n",
       "\n",
       "    price_per_month  latitude  longitude  \n",
       "0       6843.750000  40.75362  -73.98377  \n",
       "1       2707.083333  40.68514  -73.95976  \n",
       "2       6083.333333  40.74767  -73.97500  \n",
       "3       2402.916667  40.76489  -73.98493  \n",
       "4       4562.500000  40.71344  -73.99037  \n",
       "5       4106.250000  40.80316  -73.96545  \n",
       "6       2585.416667  40.76076  -73.98867  \n",
       "7       2707.083333  40.66829  -73.98779  \n",
       "8       2585.416667  40.79826  -73.96113  \n",
       "9       4258.333333  40.70837  -73.95352  \n",
       "10      6539.583333  40.69169  -73.97185  \n",
       "11      4258.333333  40.74192  -73.99501  \n",
       "12      3011.250000  40.67592  -73.94694  \n",
       "13      3954.166667  40.68069  -73.97706  \n",
       "14      2433.333333  40.67989  -73.97798  \n",
       "15      3345.833333  40.68001  -73.97865  \n",
       "16      3650.000000  40.68371  -73.94028  \n",
       "17      1825.000000  40.65599  -73.97519  \n",
       "18      1338.333333  40.86482  -73.92106  \n",
       "19      5475.000000  40.72920  -73.98542  \n",
       "20      1520.833333  40.82245  -73.95104  \n",
       "21      1581.666667  40.81305  -73.95466  \n",
       "22      1672.916667  40.72219  -73.93762  \n",
       "23      1520.833333  40.82130  -73.95318  \n",
       "24      2129.166667  40.68310  -73.95473  \n",
       "25      2707.083333  40.66869  -73.98780  \n",
       "26      2585.416667  40.70186  -73.92745  \n",
       "27      1216.666667  40.71401  -73.98917  \n",
       "28      2068.333333  40.72290  -73.98199  \n",
       "29      3650.000000  40.66278  -73.97966  "
      ]
     },
     "execution_count": 8,
     "metadata": {},
     "output_type": "execute_result"
    }
   ],
   "source": [
    "import pandas as pd \n",
    "import seaborn as sns\n",
    "import statistics \n",
    "import matplotlib.pyplot as plt\n",
    "from pandas import Series\n",
    "import numpy as np\n",
    "from matplotlib import pyplot as plt\n",
    "%matplotlib inline \n",
    "df_room_types = pd.read_csv(r'C:\\Users\\priya\\Downloads\\room_type.csv')\n",
    "df_reviews = pd.read_csv(r'C:\\Users\\priya\\Downloads\\reviews.csv')\n",
    "df_price = pd.read_csv(r'C:\\Users\\priya\\Downloads\\price.csv')\n",
    "df_room_types.head(30)\n",
    "df_reviews.head(30)\n",
    "df_price.head(30)\n"
   ]
  },
  {
   "cell_type": "code",
   "execution_count": 17,
   "metadata": {},
   "outputs": [
    {
     "name": "stdout",
     "output_type": "stream",
     "text": [
      "       Unnamed: 0_x  listing_id    host_name last_review  minimum_nights  \\\n",
      "0                 0        2595     Jennifer  21/05/2019               1   \n",
      "1                 1        3831  LisaRoxanne  05/07/2019               1   \n",
      "2                 2        5099        Chris  22/06/2019               3   \n",
      "3                 3        5178     Shunichi  24/06/2019               2   \n",
      "4                 4        5238          Ben  09/06/2019               1   \n",
      "...             ...         ...          ...         ...             ...   \n",
      "25197         25204    36425863        Rusaa  07/07/2019               1   \n",
      "25198         25205    36427429         H Ai  07/07/2019               1   \n",
      "25199         25206    36438336          Ben  07/07/2019               1   \n",
      "25200         25207    36442252       Blaine  07/07/2019               1   \n",
      "25201         25208    36455809    Christine  08/07/2019               1   \n",
      "\n",
      "       number_of_reviews  reviews_per_month  calculated_host_listings_count  \\\n",
      "0                     45               0.38                               2   \n",
      "1                    270               4.64                               1   \n",
      "2                     74               0.59                               1   \n",
      "3                    430               3.47                               1   \n",
      "4                    160               1.33                               4   \n",
      "...                  ...                ...                             ...   \n",
      "25197                  1               1.00                               1   \n",
      "25198                  1               1.00                               6   \n",
      "25199                  1               1.00                               1   \n",
      "25200                  2               2.00                               1   \n",
      "25201                  1               1.00                               1   \n",
      "\n",
      "       availability_365  booked_days_365  Unnamed: 0_y  price        borough  \\\n",
      "0                   355               10             0    225      Manhattan   \n",
      "1                   194              171             1     89       Brooklyn   \n",
      "2                   129              236             2    200      Manhattan   \n",
      "3                   220              145             3     79      Manhattan   \n",
      "4                   188              177             4    150      Manhattan   \n",
      "...                 ...              ...           ...    ...            ...   \n",
      "25197               147              218         25204    129      Manhattan   \n",
      "25198               339               26         25205     45         Queens   \n",
      "25199                87              278         25206    235  Staten Island   \n",
      "25200                40              325         25207    100          Bronx   \n",
      "25201                 1              364         25208     30       Brooklyn   \n",
      "\n",
      "          neighbourhood  price_per_month  latitude  longitude  Unnamed: 0  \\\n",
      "0               Midtown      6843.750000  40.75362  -73.98377           0   \n",
      "1          Clinton Hill      2707.083333  40.68514  -73.95976           1   \n",
      "2           Murray Hill      6083.333333  40.74767  -73.97500           2   \n",
      "3        Hell's Kitchen      2402.916667  40.76489  -73.98493           3   \n",
      "4             Chinatown      4562.500000  40.71344  -73.99037           4   \n",
      "...                 ...              ...       ...        ...         ...   \n",
      "25197   Upper East Side      3923.750000  40.78099  -73.95366       25204   \n",
      "25198          Flushing      1368.750000  40.75104  -73.81459       25205   \n",
      "25199       Great Kills      7147.916667  40.54179  -74.14275       25206   \n",
      "25200        Mott Haven      3041.666667  40.80787  -73.92400       25207   \n",
      "25201          Bushwick       912.500000  40.69805  -73.92801       25208   \n",
      "\n",
      "                                      description        room_type  \n",
      "0                           Skylit Midtown Castle  entire home/apt  \n",
      "1                 Cozy Entire Floor of Brownstone  entire home/apt  \n",
      "2       Large Cozy 1 BR Apartment In Midtown East  entire home/apt  \n",
      "3                 Large Furnished Room Near B'way     private room  \n",
      "4              Cute & Cozy Lower East Side 1 bdrm  entire home/apt  \n",
      "...                                           ...              ...  \n",
      "25197  Lovely Privet Bedroom with Privet Restroom     private room  \n",
      "25198                    No.2 with queen size bed     private room  \n",
      "25199                             Seas The Moment     private room  \n",
      "25200               1B-1B apartment near by Metro  entire home/apt  \n",
      "25201     Cozy Private Room in Bushwick, Brooklyn     private room  \n",
      "\n",
      "[25202 rows x 20 columns]\n"
     ]
    }
   ],
   "source": [
    "# combining all three tables using joins\n",
    "# Use the merge() function to join df1 and df2 on the 'key_column'\n",
    "merged_df = pd.merge(df_reviews, df_price, on='listing_id', how='inner')\n",
    "merged_df_1 = pd.merge(merged_df, df_room_types, on='listing_id', how='inner')\n",
    "print(merged_df_1)"
   ]
  },
  {
   "cell_type": "code",
   "execution_count": 18,
   "metadata": {},
   "outputs": [
    {
     "data": {
      "text/html": [
       "<div>\n",
       "<style scoped>\n",
       "    .dataframe tbody tr th:only-of-type {\n",
       "        vertical-align: middle;\n",
       "    }\n",
       "\n",
       "    .dataframe tbody tr th {\n",
       "        vertical-align: top;\n",
       "    }\n",
       "\n",
       "    .dataframe thead th {\n",
       "        text-align: right;\n",
       "    }\n",
       "</style>\n",
       "<table border=\"1\" class=\"dataframe\">\n",
       "  <thead>\n",
       "    <tr style=\"text-align: right;\">\n",
       "      <th></th>\n",
       "      <th>Unnamed: 0_x</th>\n",
       "      <th>listing_id</th>\n",
       "      <th>host_name</th>\n",
       "      <th>last_review</th>\n",
       "      <th>minimum_nights</th>\n",
       "      <th>number_of_reviews</th>\n",
       "      <th>reviews_per_month</th>\n",
       "      <th>calculated_host_listings_count</th>\n",
       "      <th>availability_365</th>\n",
       "      <th>booked_days_365</th>\n",
       "      <th>Unnamed: 0_y</th>\n",
       "      <th>price</th>\n",
       "      <th>borough</th>\n",
       "      <th>neighbourhood</th>\n",
       "      <th>price_per_month</th>\n",
       "      <th>latitude</th>\n",
       "      <th>longitude</th>\n",
       "      <th>Unnamed: 0</th>\n",
       "      <th>description</th>\n",
       "      <th>room_type</th>\n",
       "    </tr>\n",
       "  </thead>\n",
       "  <tbody>\n",
       "    <tr>\n",
       "      <th>count</th>\n",
       "      <td>25202.000000</td>\n",
       "      <td>2.520200e+04</td>\n",
       "      <td>25194</td>\n",
       "      <td>25202</td>\n",
       "      <td>25202.000000</td>\n",
       "      <td>25202.000000</td>\n",
       "      <td>25202.000000</td>\n",
       "      <td>25202.000000</td>\n",
       "      <td>25202.000000</td>\n",
       "      <td>25202.000000</td>\n",
       "      <td>25202.000000</td>\n",
       "      <td>25202.000000</td>\n",
       "      <td>25202</td>\n",
       "      <td>25202</td>\n",
       "      <td>25202.000000</td>\n",
       "      <td>25202.000000</td>\n",
       "      <td>25202.000000</td>\n",
       "      <td>25202.000000</td>\n",
       "      <td>25192</td>\n",
       "      <td>25202</td>\n",
       "    </tr>\n",
       "    <tr>\n",
       "      <th>unique</th>\n",
       "      <td>NaN</td>\n",
       "      <td>NaN</td>\n",
       "      <td>7363</td>\n",
       "      <td>190</td>\n",
       "      <td>NaN</td>\n",
       "      <td>NaN</td>\n",
       "      <td>NaN</td>\n",
       "      <td>NaN</td>\n",
       "      <td>NaN</td>\n",
       "      <td>NaN</td>\n",
       "      <td>NaN</td>\n",
       "      <td>NaN</td>\n",
       "      <td>5</td>\n",
       "      <td>216</td>\n",
       "      <td>NaN</td>\n",
       "      <td>NaN</td>\n",
       "      <td>NaN</td>\n",
       "      <td>NaN</td>\n",
       "      <td>24939</td>\n",
       "      <td>3</td>\n",
       "    </tr>\n",
       "    <tr>\n",
       "      <th>top</th>\n",
       "      <td>NaN</td>\n",
       "      <td>NaN</td>\n",
       "      <td>Michael</td>\n",
       "      <td>23/06/2019</td>\n",
       "      <td>NaN</td>\n",
       "      <td>NaN</td>\n",
       "      <td>NaN</td>\n",
       "      <td>NaN</td>\n",
       "      <td>NaN</td>\n",
       "      <td>NaN</td>\n",
       "      <td>NaN</td>\n",
       "      <td>NaN</td>\n",
       "      <td>Brooklyn</td>\n",
       "      <td>Bedford-Stuyvesant</td>\n",
       "      <td>NaN</td>\n",
       "      <td>NaN</td>\n",
       "      <td>NaN</td>\n",
       "      <td>NaN</td>\n",
       "      <td>Home away from home</td>\n",
       "      <td>entire home/apt</td>\n",
       "    </tr>\n",
       "    <tr>\n",
       "      <th>freq</th>\n",
       "      <td>NaN</td>\n",
       "      <td>NaN</td>\n",
       "      <td>215</td>\n",
       "      <td>1412</td>\n",
       "      <td>NaN</td>\n",
       "      <td>NaN</td>\n",
       "      <td>NaN</td>\n",
       "      <td>NaN</td>\n",
       "      <td>NaN</td>\n",
       "      <td>NaN</td>\n",
       "      <td>NaN</td>\n",
       "      <td>NaN</td>\n",
       "      <td>10460</td>\n",
       "      <td>2206</td>\n",
       "      <td>NaN</td>\n",
       "      <td>NaN</td>\n",
       "      <td>NaN</td>\n",
       "      <td>NaN</td>\n",
       "      <td>10</td>\n",
       "      <td>13266</td>\n",
       "    </tr>\n",
       "    <tr>\n",
       "      <th>mean</th>\n",
       "      <td>12604.403579</td>\n",
       "      <td>2.068920e+07</td>\n",
       "      <td>NaN</td>\n",
       "      <td>NaN</td>\n",
       "      <td>4.896715</td>\n",
       "      <td>40.210856</td>\n",
       "      <td>1.973993</td>\n",
       "      <td>6.147766</td>\n",
       "      <td>146.392747</td>\n",
       "      <td>218.607253</td>\n",
       "      <td>12604.403579</td>\n",
       "      <td>141.817316</td>\n",
       "      <td>NaN</td>\n",
       "      <td>NaN</td>\n",
       "      <td>4313.610031</td>\n",
       "      <td>40.727145</td>\n",
       "      <td>-73.947975</td>\n",
       "      <td>12604.403579</td>\n",
       "      <td>NaN</td>\n",
       "      <td>NaN</td>\n",
       "    </tr>\n",
       "    <tr>\n",
       "      <th>std</th>\n",
       "      <td>7278.324661</td>\n",
       "      <td>1.103081e+07</td>\n",
       "      <td>NaN</td>\n",
       "      <td>NaN</td>\n",
       "      <td>10.406988</td>\n",
       "      <td>55.319896</td>\n",
       "      <td>1.796687</td>\n",
       "      <td>31.359090</td>\n",
       "      <td>127.132444</td>\n",
       "      <td>127.132444</td>\n",
       "      <td>7278.324661</td>\n",
       "      <td>147.350650</td>\n",
       "      <td>NaN</td>\n",
       "      <td>NaN</td>\n",
       "      <td>4481.915598</td>\n",
       "      <td>0.056304</td>\n",
       "      <td>0.050951</td>\n",
       "      <td>7278.324661</td>\n",
       "      <td>NaN</td>\n",
       "      <td>NaN</td>\n",
       "    </tr>\n",
       "    <tr>\n",
       "      <th>min</th>\n",
       "      <td>0.000000</td>\n",
       "      <td>2.595000e+03</td>\n",
       "      <td>NaN</td>\n",
       "      <td>NaN</td>\n",
       "      <td>1.000000</td>\n",
       "      <td>1.000000</td>\n",
       "      <td>0.020000</td>\n",
       "      <td>1.000000</td>\n",
       "      <td>0.000000</td>\n",
       "      <td>0.000000</td>\n",
       "      <td>0.000000</td>\n",
       "      <td>10.000000</td>\n",
       "      <td>NaN</td>\n",
       "      <td>NaN</td>\n",
       "      <td>304.166667</td>\n",
       "      <td>40.506410</td>\n",
       "      <td>-74.244420</td>\n",
       "      <td>0.000000</td>\n",
       "      <td>NaN</td>\n",
       "      <td>NaN</td>\n",
       "    </tr>\n",
       "    <tr>\n",
       "      <th>25%</th>\n",
       "      <td>6300.250000</td>\n",
       "      <td>1.202115e+07</td>\n",
       "      <td>NaN</td>\n",
       "      <td>NaN</td>\n",
       "      <td>1.000000</td>\n",
       "      <td>5.000000</td>\n",
       "      <td>0.650000</td>\n",
       "      <td>1.000000</td>\n",
       "      <td>22.000000</td>\n",
       "      <td>96.000000</td>\n",
       "      <td>6300.250000</td>\n",
       "      <td>69.000000</td>\n",
       "      <td>NaN</td>\n",
       "      <td>NaN</td>\n",
       "      <td>2098.750000</td>\n",
       "      <td>40.687400</td>\n",
       "      <td>-73.982608</td>\n",
       "      <td>6300.250000</td>\n",
       "      <td>NaN</td>\n",
       "      <td>NaN</td>\n",
       "    </tr>\n",
       "    <tr>\n",
       "      <th>50%</th>\n",
       "      <td>12607.500000</td>\n",
       "      <td>2.234547e+07</td>\n",
       "      <td>NaN</td>\n",
       "      <td>NaN</td>\n",
       "      <td>2.000000</td>\n",
       "      <td>18.000000</td>\n",
       "      <td>1.460000</td>\n",
       "      <td>1.000000</td>\n",
       "      <td>116.000000</td>\n",
       "      <td>249.000000</td>\n",
       "      <td>12607.500000</td>\n",
       "      <td>105.000000</td>\n",
       "      <td>NaN</td>\n",
       "      <td>NaN</td>\n",
       "      <td>3193.750000</td>\n",
       "      <td>40.721050</td>\n",
       "      <td>-73.953000</td>\n",
       "      <td>12607.500000</td>\n",
       "      <td>NaN</td>\n",
       "      <td>NaN</td>\n",
       "    </tr>\n",
       "    <tr>\n",
       "      <th>75%</th>\n",
       "      <td>18907.750000</td>\n",
       "      <td>3.037697e+07</td>\n",
       "      <td>NaN</td>\n",
       "      <td>NaN</td>\n",
       "      <td>4.000000</td>\n",
       "      <td>53.000000</td>\n",
       "      <td>2.840000</td>\n",
       "      <td>2.000000</td>\n",
       "      <td>269.000000</td>\n",
       "      <td>343.000000</td>\n",
       "      <td>18907.750000</td>\n",
       "      <td>175.000000</td>\n",
       "      <td>NaN</td>\n",
       "      <td>NaN</td>\n",
       "      <td>5322.916667</td>\n",
       "      <td>40.762577</td>\n",
       "      <td>-73.929733</td>\n",
       "      <td>18907.750000</td>\n",
       "      <td>NaN</td>\n",
       "      <td>NaN</td>\n",
       "    </tr>\n",
       "    <tr>\n",
       "      <th>max</th>\n",
       "      <td>25208.000000</td>\n",
       "      <td>3.645581e+07</td>\n",
       "      <td>NaN</td>\n",
       "      <td>NaN</td>\n",
       "      <td>365.000000</td>\n",
       "      <td>629.000000</td>\n",
       "      <td>58.500000</td>\n",
       "      <td>327.000000</td>\n",
       "      <td>365.000000</td>\n",
       "      <td>365.000000</td>\n",
       "      <td>25208.000000</td>\n",
       "      <td>7500.000000</td>\n",
       "      <td>NaN</td>\n",
       "      <td>NaN</td>\n",
       "      <td>228125.000000</td>\n",
       "      <td>40.913060</td>\n",
       "      <td>-73.712990</td>\n",
       "      <td>25208.000000</td>\n",
       "      <td>NaN</td>\n",
       "      <td>NaN</td>\n",
       "    </tr>\n",
       "  </tbody>\n",
       "</table>\n",
       "</div>"
      ],
      "text/plain": [
       "        Unnamed: 0_x    listing_id host_name last_review  minimum_nights  \\\n",
       "count   25202.000000  2.520200e+04     25194       25202    25202.000000   \n",
       "unique           NaN           NaN      7363         190             NaN   \n",
       "top              NaN           NaN   Michael  23/06/2019             NaN   \n",
       "freq             NaN           NaN       215        1412             NaN   \n",
       "mean    12604.403579  2.068920e+07       NaN         NaN        4.896715   \n",
       "std      7278.324661  1.103081e+07       NaN         NaN       10.406988   \n",
       "min         0.000000  2.595000e+03       NaN         NaN        1.000000   \n",
       "25%      6300.250000  1.202115e+07       NaN         NaN        1.000000   \n",
       "50%     12607.500000  2.234547e+07       NaN         NaN        2.000000   \n",
       "75%     18907.750000  3.037697e+07       NaN         NaN        4.000000   \n",
       "max     25208.000000  3.645581e+07       NaN         NaN      365.000000   \n",
       "\n",
       "        number_of_reviews  reviews_per_month  calculated_host_listings_count  \\\n",
       "count        25202.000000       25202.000000                    25202.000000   \n",
       "unique                NaN                NaN                             NaN   \n",
       "top                   NaN                NaN                             NaN   \n",
       "freq                  NaN                NaN                             NaN   \n",
       "mean            40.210856           1.973993                        6.147766   \n",
       "std             55.319896           1.796687                       31.359090   \n",
       "min              1.000000           0.020000                        1.000000   \n",
       "25%              5.000000           0.650000                        1.000000   \n",
       "50%             18.000000           1.460000                        1.000000   \n",
       "75%             53.000000           2.840000                        2.000000   \n",
       "max            629.000000          58.500000                      327.000000   \n",
       "\n",
       "        availability_365  booked_days_365  Unnamed: 0_y         price  \\\n",
       "count       25202.000000     25202.000000  25202.000000  25202.000000   \n",
       "unique               NaN              NaN           NaN           NaN   \n",
       "top                  NaN              NaN           NaN           NaN   \n",
       "freq                 NaN              NaN           NaN           NaN   \n",
       "mean          146.392747       218.607253  12604.403579    141.817316   \n",
       "std           127.132444       127.132444   7278.324661    147.350650   \n",
       "min             0.000000         0.000000      0.000000     10.000000   \n",
       "25%            22.000000        96.000000   6300.250000     69.000000   \n",
       "50%           116.000000       249.000000  12607.500000    105.000000   \n",
       "75%           269.000000       343.000000  18907.750000    175.000000   \n",
       "max           365.000000       365.000000  25208.000000   7500.000000   \n",
       "\n",
       "         borough        neighbourhood  price_per_month      latitude  \\\n",
       "count      25202                25202     25202.000000  25202.000000   \n",
       "unique         5                  216              NaN           NaN   \n",
       "top     Brooklyn   Bedford-Stuyvesant              NaN           NaN   \n",
       "freq       10460                 2206              NaN           NaN   \n",
       "mean         NaN                  NaN      4313.610031     40.727145   \n",
       "std          NaN                  NaN      4481.915598      0.056304   \n",
       "min          NaN                  NaN       304.166667     40.506410   \n",
       "25%          NaN                  NaN      2098.750000     40.687400   \n",
       "50%          NaN                  NaN      3193.750000     40.721050   \n",
       "75%          NaN                  NaN      5322.916667     40.762577   \n",
       "max          NaN                  NaN    228125.000000     40.913060   \n",
       "\n",
       "           longitude    Unnamed: 0          description        room_type  \n",
       "count   25202.000000  25202.000000                25192            25202  \n",
       "unique           NaN           NaN                24939                3  \n",
       "top              NaN           NaN  Home away from home  entire home/apt  \n",
       "freq             NaN           NaN                   10            13266  \n",
       "mean      -73.947975  12604.403579                  NaN              NaN  \n",
       "std         0.050951   7278.324661                  NaN              NaN  \n",
       "min       -74.244420      0.000000                  NaN              NaN  \n",
       "25%       -73.982608   6300.250000                  NaN              NaN  \n",
       "50%       -73.953000  12607.500000                  NaN              NaN  \n",
       "75%       -73.929733  18907.750000                  NaN              NaN  \n",
       "max       -73.712990  25208.000000                  NaN              NaN  "
      ]
     },
     "execution_count": 18,
     "metadata": {},
     "output_type": "execute_result"
    }
   ],
   "source": [
    "df_room_types.describe(include = 'all')\n",
    "df_reviews.describe(include = 'all')\n",
    "df_price.describe(include = 'all')\n",
    "merged_df_1.describe(include = 'all')"
   ]
  },
  {
   "cell_type": "code",
   "execution_count": 39,
   "metadata": {},
   "outputs": [
    {
     "name": "stdout",
     "output_type": "stream",
     "text": [
      "    Unnamed: 0_x  listing_id         host_name last_review  minimum_nights  \\\n",
      "0              0        2595          Jennifer  21/05/2019               1   \n",
      "1              1        3831       LisaRoxanne  05/07/2019               1   \n",
      "2              2        5099             Chris  22/06/2019               3   \n",
      "3              3        5178          Shunichi  24/06/2019               2   \n",
      "4              4        5238               Ben  09/06/2019               1   \n",
      "5              5        5295              Lena  22/06/2019               5   \n",
      "6              6        5441              Kate  23/06/2019               2   \n",
      "7              7        5803            Laurie  24/06/2019               4   \n",
      "8              8        6021           Claudio  05/07/2019               2   \n",
      "9              9        6848     Allen & Irina  29/06/2019               2   \n",
      "10            10        7097              Jane  28/06/2019               2   \n",
      "11            11        7322              Doti  01/07/2019               1   \n",
      "12            12        7726  Adam And Charity  22/06/2019               3   \n",
      "13            13        8024             Lisel  01/07/2019               2   \n",
      "14            14        8025             Lisel  01/01/2019               1   \n",
      "15            15        8110             Lisel  02/07/2019               2   \n",
      "16            16        8490          Nathalie  19/06/2019               2   \n",
      "17            17        8505           Gregory  23/06/2019               1   \n",
      "18            18        9518              Shon  15/06/2019               3   \n",
      "19            19        9657              Dana  19/04/2019              14   \n",
      "20            20        9668   Ssameer Or Trip  01/06/2019               3   \n",
      "21            21        9704              Teri  14/06/2019               2   \n",
      "22            22        9782            Andrea  15/06/2019               4   \n",
      "23            23        9783   Ssameer Or Trip  01/07/2019               3   \n",
      "24            24       10452            Angela  12/05/2019               1   \n",
      "25            25       10962            Laurie  21/06/2019               4   \n",
      "26            26       11708            Tyrome  22/06/2019               2   \n",
      "27            27       12048               Ben  05/07/2019               1   \n",
      "28            28       12192            Edward  21/06/2019               2   \n",
      "29            29       12299             Abdul  27/05/2019               3   \n",
      "\n",
      "    number_of_reviews  reviews_per_month  calculated_host_listings_count  \\\n",
      "0                  45               0.38                               2   \n",
      "1                 270               4.64                               1   \n",
      "2                  74               0.59                               1   \n",
      "3                 430               3.47                               1   \n",
      "4                 160               1.33                               4   \n",
      "5                  53               0.43                               1   \n",
      "6                 188               1.50                               1   \n",
      "7                 167               1.34                               3   \n",
      "8                 113               0.91                               1   \n",
      "9                 148               1.20                               1   \n",
      "10                198               1.72                               1   \n",
      "11                260               2.12                               1   \n",
      "12                 53               4.44                               1   \n",
      "13                130               1.09                               6   \n",
      "14                 39               0.37                               6   \n",
      "15                 71               0.61                               6   \n",
      "16                 88               0.73                               2   \n",
      "17                 19               1.37                               2   \n",
      "18                108               1.11                               3   \n",
      "19                 29               0.24                               1   \n",
      "20                242               2.04                               3   \n",
      "21                 88               1.42                               1   \n",
      "22                197               1.65                               3   \n",
      "23                273               2.37                               3   \n",
      "24                 74               0.66                               2   \n",
      "25                168               1.41                               3   \n",
      "26                231               1.96                               2   \n",
      "27                214               1.81                               4   \n",
      "28                245               2.08                               2   \n",
      "29                 15               0.39                               1   \n",
      "\n",
      "    availability_365  booked_days_365  Unnamed: 0_y  price    borough  \\\n",
      "0                355               10             0    225  Manhattan   \n",
      "1                194              171             1     89   Brooklyn   \n",
      "2                129              236             2    200  Manhattan   \n",
      "3                220              145             3     79  Manhattan   \n",
      "4                188              177             4    150  Manhattan   \n",
      "5                  6              359             5    135  Manhattan   \n",
      "6                 39              326             6     85  Manhattan   \n",
      "7                314               51             7     89   Brooklyn   \n",
      "8                333               32             8     85  Manhattan   \n",
      "9                 46              319             9    140   Brooklyn   \n",
      "10               321               44            10    215   Brooklyn   \n",
      "11                12              353            11    140  Manhattan   \n",
      "12                21              344            12     99   Brooklyn   \n",
      "13               347               18            13    130   Brooklyn   \n",
      "14               364                1            14     80   Brooklyn   \n",
      "15               304               61            15    110   Brooklyn   \n",
      "16               233              132            16    120   Brooklyn   \n",
      "17                85              280            17     60   Brooklyn   \n",
      "18               311               54            18     44  Manhattan   \n",
      "19                67              298            19    180  Manhattan   \n",
      "20               355               10            20     50  Manhattan   \n",
      "21               255              110            21     52  Manhattan   \n",
      "22               284               81            22     55   Brooklyn   \n",
      "23               359                6            23     50  Manhattan   \n",
      "24               269               96            24     70   Brooklyn   \n",
      "25               340               25            25     89   Brooklyn   \n",
      "26                22              343            26     85   Brooklyn   \n",
      "27               188              177            27     40  Manhattan   \n",
      "28                96              269            28     68  Manhattan   \n",
      "29               345               20            29    120   Brooklyn   \n",
      "\n",
      "          neighbourhood  price_per_month  latitude  longitude  Unnamed: 0  \\\n",
      "0               Midtown      6843.750000  40.75362  -73.98377           0   \n",
      "1          Clinton Hill      2707.083333  40.68514  -73.95976           1   \n",
      "2           Murray Hill      6083.333333  40.74767  -73.97500           2   \n",
      "3        Hell's Kitchen      2402.916667  40.76489  -73.98493           3   \n",
      "4             Chinatown      4562.500000  40.71344  -73.99037           4   \n",
      "5       Upper West Side      4106.250000  40.80316  -73.96545           5   \n",
      "6        Hell's Kitchen      2585.416667  40.76076  -73.98867           6   \n",
      "7           South Slope      2707.083333  40.66829  -73.98779           7   \n",
      "8       Upper West Side      2585.416667  40.79826  -73.96113           8   \n",
      "9          Williamsburg      4258.333333  40.70837  -73.95352           9   \n",
      "10          Fort Greene      6539.583333  40.69169  -73.97185          10   \n",
      "11              Chelsea      4258.333333  40.74192  -73.99501          11   \n",
      "12        Crown Heights      3011.250000  40.67592  -73.94694          12   \n",
      "13           Park Slope      3954.166667  40.68069  -73.97706          13   \n",
      "14           Park Slope      2433.333333  40.67989  -73.97798          14   \n",
      "15           Park Slope      3345.833333  40.68001  -73.97865          15   \n",
      "16   Bedford-Stuyvesant      3650.000000  40.68371  -73.94028          16   \n",
      "17      Windsor Terrace      1825.000000  40.65599  -73.97519          17   \n",
      "18               Inwood      1338.333333  40.86482  -73.92106          18   \n",
      "19         East Village      5475.000000  40.72920  -73.98542          19   \n",
      "20               Harlem      1520.833333  40.82245  -73.95104          20   \n",
      "21               Harlem      1581.666667  40.81305  -73.95466          21   \n",
      "22           Greenpoint      1672.916667  40.72219  -73.93762          22   \n",
      "23               Harlem      1520.833333  40.82130  -73.95318          23   \n",
      "24   Bedford-Stuyvesant      2129.166667  40.68310  -73.95473          24   \n",
      "25          South Slope      2707.083333  40.66869  -73.98780          25   \n",
      "26             Bushwick      2585.416667  40.70186  -73.92745          26   \n",
      "27      Lower East Side      1216.666667  40.71401  -73.98917          27   \n",
      "28         East Village      2068.333333  40.72290  -73.98199          28   \n",
      "29          South Slope      3650.000000  40.66278  -73.97966          29   \n",
      "\n",
      "                                         description        room_type  \n",
      "0                              Skylit Midtown Castle  entire home/apt  \n",
      "1                    Cozy Entire Floor of Brownstone  entire home/apt  \n",
      "2          Large Cozy 1 BR Apartment In Midtown East  entire home/apt  \n",
      "3                    Large Furnished Room Near B'way     private room  \n",
      "4                 Cute & Cozy Lower East Side 1 bdrm  entire home/apt  \n",
      "5                   Beautiful 1br on Upper West Side  entire home/apt  \n",
      "6                    Central Manhattan/near Broadway     private room  \n",
      "7     Lovely Room 1, Garden, Best Area, Legal rental     private room  \n",
      "8   Wonderful Guest Bedroom in Manhattan for SINGLES     private room  \n",
      "9                   Only 2 stops to Manhattan studio  entire home/apt  \n",
      "10                 Perfect for Your Parents + Garden  entire home/apt  \n",
      "11                                   Chelsea Perfect     private room  \n",
      "12   Hip Historic Brownstone Apartment with Backyard  entire home/apt  \n",
      "13                    CBG CtyBGd HelpsHaiti rm#1:1-4     private room  \n",
      "14                          CBG Helps Haiti Room#2.5     private room  \n",
      "15                             CBG Helps Haiti Rm #2     private room  \n",
      "16            MAISON DES SIRENES1,bohemian apartment  entire home/apt  \n",
      "17                Sunny Bedroom Across Prospect Park     private room  \n",
      "18      SPACIOUS, LOVELY FURNISHED MANHATTAN BEDROOM     private room  \n",
      "19                  Modern 1 BR / NYC / EAST VILLAGE  entire home/apt  \n",
      "20                             front room/double bed     private room  \n",
      "21               Spacious 1 bedroom in luxe building     private room  \n",
      "22                 Loft in Williamsburg Area w/ Roof     private room  \n",
      "23                               back room/bunk beds     private room  \n",
      "24                             Large B&B Style rooms     private room  \n",
      "25   Lovely room 2 & garden; Best area, Legal rental     private room  \n",
      "26                         Cute apt in artist's home  entire home/apt  \n",
      "27               LowerEastSide apt share shortterm 1      shared room  \n",
      "28                               ENJOY Downtown NYC!     private room  \n",
      "29               Beautiful Sunny Park Slope Brooklyn  entire home/apt  \n"
     ]
    }
   ],
   "source": [
    "print(merged_df_1.head(30))"
   ]
  },
  {
   "cell_type": "code",
   "execution_count": 23,
   "metadata": {},
   "outputs": [
    {
     "name": "stdout",
     "output_type": "stream",
     "text": [
      "<class 'pandas.core.frame.DataFrame'>\n",
      "Int64Index: 25202 entries, 0 to 25201\n",
      "Data columns (total 20 columns):\n",
      " #   Column                          Non-Null Count  Dtype  \n",
      "---  ------                          --------------  -----  \n",
      " 0   Unnamed: 0_x                    25202 non-null  int64  \n",
      " 1   listing_id                      25202 non-null  int64  \n",
      " 2   host_name                       25194 non-null  object \n",
      " 3   last_review                     25202 non-null  object \n",
      " 4   minimum_nights                  25202 non-null  int64  \n",
      " 5   number_of_reviews               25202 non-null  int64  \n",
      " 6   reviews_per_month               25202 non-null  float64\n",
      " 7   calculated_host_listings_count  25202 non-null  int64  \n",
      " 8   availability_365                25202 non-null  int64  \n",
      " 9   booked_days_365                 25202 non-null  int64  \n",
      " 10  Unnamed: 0_y                    25202 non-null  int64  \n",
      " 11  price                           25202 non-null  int64  \n",
      " 12  borough                         25202 non-null  object \n",
      " 13  neighbourhood                   25202 non-null  object \n",
      " 14  price_per_month                 25202 non-null  float64\n",
      " 15  latitude                        25202 non-null  float64\n",
      " 16  longitude                       25202 non-null  float64\n",
      " 17  Unnamed: 0                      25202 non-null  int64  \n",
      " 18  description                     25192 non-null  object \n",
      " 19  room_type                       25202 non-null  object \n",
      "dtypes: float64(4), int64(10), object(6)\n",
      "memory usage: 4.0+ MB\n"
     ]
    }
   ],
   "source": [
    "merged_df_1.info()"
   ]
  },
  {
   "cell_type": "code",
   "execution_count": 5,
   "metadata": {},
   "outputs": [],
   "source": [
    "# df.shape[]"
   ]
  },
  {
   "cell_type": "code",
   "execution_count": 12,
   "metadata": {},
   "outputs": [
    {
     "data": {
      "text/plain": [
       "Unnamed: 0                        0\n",
       "listing_id                        0\n",
       "host_name                         8\n",
       "last_review                       0\n",
       "minimum_nights                    0\n",
       "number_of_reviews                 0\n",
       "reviews_per_month                 0\n",
       "calculated_host_listings_count    0\n",
       "availability_365                  0\n",
       "booked_days_365                   0\n",
       "dtype: int64"
      ]
     },
     "execution_count": 12,
     "metadata": {},
     "output_type": "execute_result"
    }
   ],
   "source": [
    "df_price.isnull().sum()\n",
    "\n",
    "df_reviews.isnull().sum()"
   ]
  },
  {
   "cell_type": "code",
   "execution_count": 19,
   "metadata": {},
   "outputs": [
    {
     "data": {
      "text/plain": [
       "Unnamed: 0_x                       0\n",
       "listing_id                         0\n",
       "host_name                          8\n",
       "last_review                        0\n",
       "minimum_nights                     0\n",
       "number_of_reviews                  0\n",
       "reviews_per_month                  0\n",
       "calculated_host_listings_count     0\n",
       "availability_365                   0\n",
       "booked_days_365                    0\n",
       "Unnamed: 0_y                       0\n",
       "price                              0\n",
       "borough                            0\n",
       "neighbourhood                      0\n",
       "price_per_month                    0\n",
       "latitude                           0\n",
       "longitude                          0\n",
       "Unnamed: 0                         0\n",
       "description                       10\n",
       "room_type                          0\n",
       "dtype: int64"
      ]
     },
     "execution_count": 19,
     "metadata": {},
     "output_type": "execute_result"
    }
   ],
   "source": [
    "merged_df_1.isnull().sum()"
   ]
  },
  {
   "cell_type": "code",
   "execution_count": 36,
   "metadata": {},
   "outputs": [
    {
     "data": {
      "text/plain": [
       "array(['Skylit Midtown Castle', 'Cozy Entire Floor of Brownstone',\n",
       "       'Large Cozy 1 BR Apartment In Midtown East', ...,\n",
       "       'Seas The Moment', '1B-1B apartment near by Metro',\n",
       "       'Cozy Private Room in Bushwick, Brooklyn'], dtype=object)"
      ]
     },
     "execution_count": 36,
     "metadata": {},
     "output_type": "execute_result"
    }
   ],
   "source": [
    "merged_df_1['description'].unique()\n"
   ]
  },
  {
   "cell_type": "markdown",
   "metadata": {},
   "source": [
    "### Conclusion"
   ]
  },
  {
   "cell_type": "markdown",
   "metadata": {},
   "source": [
    "While looking at the data we can observe that there are \n",
    "1) 25202 entries in it \n",
    "2) We have 3 different data frames with listing_id as column .so, we have merged them all in merged_df_1 dataframe .\n",
    "3) Columns(listing_id,host_name,last_review, minimum_nights,number_of_reviews ,reviews_per_month .calculated_host_listings_count,availability_365, booked_days_365 ,price ,borough ,neighbourhood ,price_per_month              latitude ,longitude, description ,room_type .\n",
    "4) Observing  data it is clearly seen that there is missing values in description and host_name.\n"
   ]
  },
  {
   "cell_type": "markdown",
   "metadata": {},
   "source": [
    "### Step 2. Data preprocessing"
   ]
  },
  {
   "cell_type": "code",
   "execution_count": 45,
   "metadata": {},
   "outputs": [
    {
     "data": {
      "text/plain": [
       "Unnamed: 0_x                       0\n",
       "listing_id                         0\n",
       "host_name                          0\n",
       "last_review                        0\n",
       "minimum_nights                     0\n",
       "number_of_reviews                  0\n",
       "reviews_per_month                  0\n",
       "calculated_host_listings_count     0\n",
       "availability_365                   0\n",
       "booked_days_365                    0\n",
       "Unnamed: 0_y                       0\n",
       "price                              0\n",
       "borough                            0\n",
       "neighbourhood                      0\n",
       "price_per_month                    0\n",
       "latitude                           0\n",
       "longitude                          0\n",
       "Unnamed: 0                         0\n",
       "description                       10\n",
       "room_type                          0\n",
       "dtype: int64"
      ]
     },
     "execution_count": 45,
     "metadata": {},
     "output_type": "execute_result"
    }
   ],
   "source": [
    "merged_df_1.isnull().sum()"
   ]
  },
  {
   "cell_type": "code",
   "execution_count": 32,
   "metadata": {},
   "outputs": [
    {
     "name": "stdout",
     "output_type": "stream",
     "text": [
      "Empty DataFrame\n",
      "Columns: [Unnamed: 0_x, listing_id, host_name, last_review, minimum_nights, number_of_reviews, reviews_per_month, calculated_host_listings_count, availability_365, booked_days_365, Unnamed: 0_y, price, borough, neighbourhood, price_per_month, latitude, longitude, Unnamed: 0, description, room_type]\n",
      "Index: []\n"
     ]
    }
   ],
   "source": [
    "\n",
    "duplicate_rows = merged_df_1[merged_df_1.duplicated()]\n",
    "print(duplicate_rows)"
   ]
  },
  {
   "cell_type": "code",
   "execution_count": 28,
   "metadata": {},
   "outputs": [],
   "source": [
    "merged_df_1=merged_df_1.drop_duplicates()"
   ]
  },
  {
   "cell_type": "code",
   "execution_count": 42,
   "metadata": {},
   "outputs": [
    {
     "data": {
      "text/html": [
       "<div>\n",
       "<style scoped>\n",
       "    .dataframe tbody tr th:only-of-type {\n",
       "        vertical-align: middle;\n",
       "    }\n",
       "\n",
       "    .dataframe tbody tr th {\n",
       "        vertical-align: top;\n",
       "    }\n",
       "\n",
       "    .dataframe thead th {\n",
       "        text-align: right;\n",
       "    }\n",
       "</style>\n",
       "<table border=\"1\" class=\"dataframe\">\n",
       "  <thead>\n",
       "    <tr style=\"text-align: right;\">\n",
       "      <th></th>\n",
       "      <th>Unnamed: 0_x</th>\n",
       "      <th>listing_id</th>\n",
       "      <th>host_name</th>\n",
       "      <th>last_review</th>\n",
       "      <th>minimum_nights</th>\n",
       "      <th>number_of_reviews</th>\n",
       "      <th>reviews_per_month</th>\n",
       "      <th>calculated_host_listings_count</th>\n",
       "      <th>availability_365</th>\n",
       "      <th>booked_days_365</th>\n",
       "      <th>Unnamed: 0_y</th>\n",
       "      <th>price</th>\n",
       "      <th>borough</th>\n",
       "      <th>neighbourhood</th>\n",
       "      <th>price_per_month</th>\n",
       "      <th>latitude</th>\n",
       "      <th>longitude</th>\n",
       "      <th>Unnamed: 0</th>\n",
       "      <th>description</th>\n",
       "      <th>room_type</th>\n",
       "    </tr>\n",
       "  </thead>\n",
       "  <tbody>\n",
       "    <tr>\n",
       "      <th>3</th>\n",
       "      <td>3</td>\n",
       "      <td>5178</td>\n",
       "      <td>Shunichi</td>\n",
       "      <td>24/06/2019</td>\n",
       "      <td>2</td>\n",
       "      <td>430</td>\n",
       "      <td>3.47</td>\n",
       "      <td>1</td>\n",
       "      <td>220</td>\n",
       "      <td>145</td>\n",
       "      <td>3</td>\n",
       "      <td>79</td>\n",
       "      <td>Manhattan</td>\n",
       "      <td>Hell's Kitchen</td>\n",
       "      <td>2402.916667</td>\n",
       "      <td>40.76489</td>\n",
       "      <td>-73.98493</td>\n",
       "      <td>3</td>\n",
       "      <td>Large Furnished Room Near B'way</td>\n",
       "      <td>private room</td>\n",
       "    </tr>\n",
       "  </tbody>\n",
       "</table>\n",
       "</div>"
      ],
      "text/plain": [
       "   Unnamed: 0_x  listing_id host_name last_review  minimum_nights  \\\n",
       "3             3        5178  Shunichi  24/06/2019               2   \n",
       "\n",
       "   number_of_reviews  reviews_per_month  calculated_host_listings_count  \\\n",
       "3                430               3.47                               1   \n",
       "\n",
       "   availability_365  booked_days_365  Unnamed: 0_y  price    borough  \\\n",
       "3               220              145             3     79  Manhattan   \n",
       "\n",
       "     neighbourhood  price_per_month  latitude  longitude  Unnamed: 0  \\\n",
       "3   Hell's Kitchen      2402.916667  40.76489  -73.98493           3   \n",
       "\n",
       "                       description     room_type  \n",
       "3  Large Furnished Room Near B'way  private room  "
      ]
     },
     "execution_count": 42,
     "metadata": {},
     "output_type": "execute_result"
    }
   ],
   "source": [
    "merged_df_1[merged_df_1['host_name']=='Shunichi']"
   ]
  },
  {
   "cell_type": "code",
   "execution_count": 46,
   "metadata": {},
   "outputs": [],
   "source": [
    "#we will fill it by 0 ,as 1(true) is present in whole set of entries ,then rest will be 0 (false)\n",
    "#df['is_4wd'].fillna(value=0, inplace =True)\n",
    "#df['is_4wd'].value_counts()"
   ]
  },
  {
   "cell_type": "markdown",
   "metadata": {},
   "source": [
    "<font color='green'><h3>Filling the values in host_name </h3></font>"
   ]
  },
  {
   "cell_type": "code",
   "execution_count": 37,
   "metadata": {},
   "outputs": [
    {
     "data": {
      "text/plain": [
       "array(['Jennifer', 'LisaRoxanne', 'Chris', ..., 'Prince', 'David & Amy',\n",
       "       'Rusaa'], dtype=object)"
      ]
     },
     "execution_count": 37,
     "metadata": {},
     "output_type": "execute_result"
    }
   ],
   "source": [
    "merged_df_1['host_name'].unique()"
   ]
  },
  {
   "cell_type": "code",
   "execution_count": 38,
   "metadata": {},
   "outputs": [
    {
     "data": {
      "text/plain": [
       "Michael            215\n",
       "Sonder (NYC)       207\n",
       "David              197\n",
       "John               177\n",
       "Alex               153\n",
       "                  ... \n",
       "Ted & Tony           1\n",
       "Saori                1\n",
       "Martha Cristina      1\n",
       "Stelios              1\n",
       "Rusaa                1\n",
       "Name: host_name, Length: 7363, dtype: int64"
      ]
     },
     "execution_count": 38,
     "metadata": {},
     "output_type": "execute_result"
    }
   ],
   "source": [
    "merged_df_1['host_name'].value_counts()"
   ]
  },
  {
   "cell_type": "code",
   "execution_count": 44,
   "metadata": {
    "scrolled": true
   },
   "outputs": [
    {
     "name": "stderr",
     "output_type": "stream",
     "text": [
      "<ipython-input-44-665e11aa2aba>:2: FutureWarning: Not prepending group keys to the result index of transform-like apply. In the future, the group keys will be included in the index, regardless of whether the applied function returns a like-indexed object.\n",
      "To preserve the previous behavior, use\n",
      "\n",
      "\t>>> .groupby(..., group_keys=False)\n",
      "\n",
      "To adopt the future behavior and silence this warning, use \n",
      "\n",
      "\t>>> .groupby(..., group_keys=True)\n",
      "  merged_df_1['host_name'] = merged_df_1.groupby('room_type')['host_name'].apply(lambda x: x.fillna(x.mode().iloc[0]))\n"
     ]
    },
    {
     "data": {
      "text/html": [
       "<div>\n",
       "<style scoped>\n",
       "    .dataframe tbody tr th:only-of-type {\n",
       "        vertical-align: middle;\n",
       "    }\n",
       "\n",
       "    .dataframe tbody tr th {\n",
       "        vertical-align: top;\n",
       "    }\n",
       "\n",
       "    .dataframe thead th {\n",
       "        text-align: right;\n",
       "    }\n",
       "</style>\n",
       "<table border=\"1\" class=\"dataframe\">\n",
       "  <thead>\n",
       "    <tr style=\"text-align: right;\">\n",
       "      <th></th>\n",
       "      <th>Unnamed: 0_x</th>\n",
       "      <th>listing_id</th>\n",
       "      <th>host_name</th>\n",
       "      <th>last_review</th>\n",
       "      <th>minimum_nights</th>\n",
       "      <th>number_of_reviews</th>\n",
       "      <th>reviews_per_month</th>\n",
       "      <th>calculated_host_listings_count</th>\n",
       "      <th>availability_365</th>\n",
       "      <th>booked_days_365</th>\n",
       "      <th>Unnamed: 0_y</th>\n",
       "      <th>price</th>\n",
       "      <th>borough</th>\n",
       "      <th>neighbourhood</th>\n",
       "      <th>price_per_month</th>\n",
       "      <th>latitude</th>\n",
       "      <th>longitude</th>\n",
       "      <th>Unnamed: 0</th>\n",
       "      <th>description</th>\n",
       "      <th>room_type</th>\n",
       "    </tr>\n",
       "  </thead>\n",
       "  <tbody>\n",
       "    <tr>\n",
       "      <th>0</th>\n",
       "      <td>0</td>\n",
       "      <td>2595</td>\n",
       "      <td>Jennifer</td>\n",
       "      <td>21/05/2019</td>\n",
       "      <td>1</td>\n",
       "      <td>45</td>\n",
       "      <td>0.38</td>\n",
       "      <td>2</td>\n",
       "      <td>355</td>\n",
       "      <td>10</td>\n",
       "      <td>0</td>\n",
       "      <td>225</td>\n",
       "      <td>Manhattan</td>\n",
       "      <td>Midtown</td>\n",
       "      <td>6843.750000</td>\n",
       "      <td>40.75362</td>\n",
       "      <td>-73.98377</td>\n",
       "      <td>0</td>\n",
       "      <td>Skylit Midtown Castle</td>\n",
       "      <td>entire home/apt</td>\n",
       "    </tr>\n",
       "    <tr>\n",
       "      <th>1</th>\n",
       "      <td>1</td>\n",
       "      <td>3831</td>\n",
       "      <td>LisaRoxanne</td>\n",
       "      <td>05/07/2019</td>\n",
       "      <td>1</td>\n",
       "      <td>270</td>\n",
       "      <td>4.64</td>\n",
       "      <td>1</td>\n",
       "      <td>194</td>\n",
       "      <td>171</td>\n",
       "      <td>1</td>\n",
       "      <td>89</td>\n",
       "      <td>Brooklyn</td>\n",
       "      <td>Clinton Hill</td>\n",
       "      <td>2707.083333</td>\n",
       "      <td>40.68514</td>\n",
       "      <td>-73.95976</td>\n",
       "      <td>1</td>\n",
       "      <td>Cozy Entire Floor of Brownstone</td>\n",
       "      <td>entire home/apt</td>\n",
       "    </tr>\n",
       "    <tr>\n",
       "      <th>2</th>\n",
       "      <td>2</td>\n",
       "      <td>5099</td>\n",
       "      <td>Chris</td>\n",
       "      <td>22/06/2019</td>\n",
       "      <td>3</td>\n",
       "      <td>74</td>\n",
       "      <td>0.59</td>\n",
       "      <td>1</td>\n",
       "      <td>129</td>\n",
       "      <td>236</td>\n",
       "      <td>2</td>\n",
       "      <td>200</td>\n",
       "      <td>Manhattan</td>\n",
       "      <td>Murray Hill</td>\n",
       "      <td>6083.333333</td>\n",
       "      <td>40.74767</td>\n",
       "      <td>-73.97500</td>\n",
       "      <td>2</td>\n",
       "      <td>Large Cozy 1 BR Apartment In Midtown East</td>\n",
       "      <td>entire home/apt</td>\n",
       "    </tr>\n",
       "    <tr>\n",
       "      <th>3</th>\n",
       "      <td>3</td>\n",
       "      <td>5178</td>\n",
       "      <td>Shunichi</td>\n",
       "      <td>24/06/2019</td>\n",
       "      <td>2</td>\n",
       "      <td>430</td>\n",
       "      <td>3.47</td>\n",
       "      <td>1</td>\n",
       "      <td>220</td>\n",
       "      <td>145</td>\n",
       "      <td>3</td>\n",
       "      <td>79</td>\n",
       "      <td>Manhattan</td>\n",
       "      <td>Hell's Kitchen</td>\n",
       "      <td>2402.916667</td>\n",
       "      <td>40.76489</td>\n",
       "      <td>-73.98493</td>\n",
       "      <td>3</td>\n",
       "      <td>Large Furnished Room Near B'way</td>\n",
       "      <td>private room</td>\n",
       "    </tr>\n",
       "    <tr>\n",
       "      <th>4</th>\n",
       "      <td>4</td>\n",
       "      <td>5238</td>\n",
       "      <td>Ben</td>\n",
       "      <td>09/06/2019</td>\n",
       "      <td>1</td>\n",
       "      <td>160</td>\n",
       "      <td>1.33</td>\n",
       "      <td>4</td>\n",
       "      <td>188</td>\n",
       "      <td>177</td>\n",
       "      <td>4</td>\n",
       "      <td>150</td>\n",
       "      <td>Manhattan</td>\n",
       "      <td>Chinatown</td>\n",
       "      <td>4562.500000</td>\n",
       "      <td>40.71344</td>\n",
       "      <td>-73.99037</td>\n",
       "      <td>4</td>\n",
       "      <td>Cute &amp; Cozy Lower East Side 1 bdrm</td>\n",
       "      <td>entire home/apt</td>\n",
       "    </tr>\n",
       "    <tr>\n",
       "      <th>...</th>\n",
       "      <td>...</td>\n",
       "      <td>...</td>\n",
       "      <td>...</td>\n",
       "      <td>...</td>\n",
       "      <td>...</td>\n",
       "      <td>...</td>\n",
       "      <td>...</td>\n",
       "      <td>...</td>\n",
       "      <td>...</td>\n",
       "      <td>...</td>\n",
       "      <td>...</td>\n",
       "      <td>...</td>\n",
       "      <td>...</td>\n",
       "      <td>...</td>\n",
       "      <td>...</td>\n",
       "      <td>...</td>\n",
       "      <td>...</td>\n",
       "      <td>...</td>\n",
       "      <td>...</td>\n",
       "      <td>...</td>\n",
       "    </tr>\n",
       "    <tr>\n",
       "      <th>25197</th>\n",
       "      <td>25204</td>\n",
       "      <td>36425863</td>\n",
       "      <td>Rusaa</td>\n",
       "      <td>07/07/2019</td>\n",
       "      <td>1</td>\n",
       "      <td>1</td>\n",
       "      <td>1.00</td>\n",
       "      <td>1</td>\n",
       "      <td>147</td>\n",
       "      <td>218</td>\n",
       "      <td>25204</td>\n",
       "      <td>129</td>\n",
       "      <td>Manhattan</td>\n",
       "      <td>Upper East Side</td>\n",
       "      <td>3923.750000</td>\n",
       "      <td>40.78099</td>\n",
       "      <td>-73.95366</td>\n",
       "      <td>25204</td>\n",
       "      <td>Lovely Privet Bedroom with Privet Restroom</td>\n",
       "      <td>private room</td>\n",
       "    </tr>\n",
       "    <tr>\n",
       "      <th>25198</th>\n",
       "      <td>25205</td>\n",
       "      <td>36427429</td>\n",
       "      <td>H Ai</td>\n",
       "      <td>07/07/2019</td>\n",
       "      <td>1</td>\n",
       "      <td>1</td>\n",
       "      <td>1.00</td>\n",
       "      <td>6</td>\n",
       "      <td>339</td>\n",
       "      <td>26</td>\n",
       "      <td>25205</td>\n",
       "      <td>45</td>\n",
       "      <td>Queens</td>\n",
       "      <td>Flushing</td>\n",
       "      <td>1368.750000</td>\n",
       "      <td>40.75104</td>\n",
       "      <td>-73.81459</td>\n",
       "      <td>25205</td>\n",
       "      <td>No.2 with queen size bed</td>\n",
       "      <td>private room</td>\n",
       "    </tr>\n",
       "    <tr>\n",
       "      <th>25199</th>\n",
       "      <td>25206</td>\n",
       "      <td>36438336</td>\n",
       "      <td>Ben</td>\n",
       "      <td>07/07/2019</td>\n",
       "      <td>1</td>\n",
       "      <td>1</td>\n",
       "      <td>1.00</td>\n",
       "      <td>1</td>\n",
       "      <td>87</td>\n",
       "      <td>278</td>\n",
       "      <td>25206</td>\n",
       "      <td>235</td>\n",
       "      <td>Staten Island</td>\n",
       "      <td>Great Kills</td>\n",
       "      <td>7147.916667</td>\n",
       "      <td>40.54179</td>\n",
       "      <td>-74.14275</td>\n",
       "      <td>25206</td>\n",
       "      <td>Seas The Moment</td>\n",
       "      <td>private room</td>\n",
       "    </tr>\n",
       "    <tr>\n",
       "      <th>25200</th>\n",
       "      <td>25207</td>\n",
       "      <td>36442252</td>\n",
       "      <td>Blaine</td>\n",
       "      <td>07/07/2019</td>\n",
       "      <td>1</td>\n",
       "      <td>2</td>\n",
       "      <td>2.00</td>\n",
       "      <td>1</td>\n",
       "      <td>40</td>\n",
       "      <td>325</td>\n",
       "      <td>25207</td>\n",
       "      <td>100</td>\n",
       "      <td>Bronx</td>\n",
       "      <td>Mott Haven</td>\n",
       "      <td>3041.666667</td>\n",
       "      <td>40.80787</td>\n",
       "      <td>-73.92400</td>\n",
       "      <td>25207</td>\n",
       "      <td>1B-1B apartment near by Metro</td>\n",
       "      <td>entire home/apt</td>\n",
       "    </tr>\n",
       "    <tr>\n",
       "      <th>25201</th>\n",
       "      <td>25208</td>\n",
       "      <td>36455809</td>\n",
       "      <td>Christine</td>\n",
       "      <td>08/07/2019</td>\n",
       "      <td>1</td>\n",
       "      <td>1</td>\n",
       "      <td>1.00</td>\n",
       "      <td>1</td>\n",
       "      <td>1</td>\n",
       "      <td>364</td>\n",
       "      <td>25208</td>\n",
       "      <td>30</td>\n",
       "      <td>Brooklyn</td>\n",
       "      <td>Bushwick</td>\n",
       "      <td>912.500000</td>\n",
       "      <td>40.69805</td>\n",
       "      <td>-73.92801</td>\n",
       "      <td>25208</td>\n",
       "      <td>Cozy Private Room in Bushwick, Brooklyn</td>\n",
       "      <td>private room</td>\n",
       "    </tr>\n",
       "  </tbody>\n",
       "</table>\n",
       "<p>25202 rows × 20 columns</p>\n",
       "</div>"
      ],
      "text/plain": [
       "       Unnamed: 0_x  listing_id    host_name last_review  minimum_nights  \\\n",
       "0                 0        2595     Jennifer  21/05/2019               1   \n",
       "1                 1        3831  LisaRoxanne  05/07/2019               1   \n",
       "2                 2        5099        Chris  22/06/2019               3   \n",
       "3                 3        5178     Shunichi  24/06/2019               2   \n",
       "4                 4        5238          Ben  09/06/2019               1   \n",
       "...             ...         ...          ...         ...             ...   \n",
       "25197         25204    36425863        Rusaa  07/07/2019               1   \n",
       "25198         25205    36427429         H Ai  07/07/2019               1   \n",
       "25199         25206    36438336          Ben  07/07/2019               1   \n",
       "25200         25207    36442252       Blaine  07/07/2019               1   \n",
       "25201         25208    36455809    Christine  08/07/2019               1   \n",
       "\n",
       "       number_of_reviews  reviews_per_month  calculated_host_listings_count  \\\n",
       "0                     45               0.38                               2   \n",
       "1                    270               4.64                               1   \n",
       "2                     74               0.59                               1   \n",
       "3                    430               3.47                               1   \n",
       "4                    160               1.33                               4   \n",
       "...                  ...                ...                             ...   \n",
       "25197                  1               1.00                               1   \n",
       "25198                  1               1.00                               6   \n",
       "25199                  1               1.00                               1   \n",
       "25200                  2               2.00                               1   \n",
       "25201                  1               1.00                               1   \n",
       "\n",
       "       availability_365  booked_days_365  Unnamed: 0_y  price        borough  \\\n",
       "0                   355               10             0    225      Manhattan   \n",
       "1                   194              171             1     89       Brooklyn   \n",
       "2                   129              236             2    200      Manhattan   \n",
       "3                   220              145             3     79      Manhattan   \n",
       "4                   188              177             4    150      Manhattan   \n",
       "...                 ...              ...           ...    ...            ...   \n",
       "25197               147              218         25204    129      Manhattan   \n",
       "25198               339               26         25205     45         Queens   \n",
       "25199                87              278         25206    235  Staten Island   \n",
       "25200                40              325         25207    100          Bronx   \n",
       "25201                 1              364         25208     30       Brooklyn   \n",
       "\n",
       "          neighbourhood  price_per_month  latitude  longitude  Unnamed: 0  \\\n",
       "0               Midtown      6843.750000  40.75362  -73.98377           0   \n",
       "1          Clinton Hill      2707.083333  40.68514  -73.95976           1   \n",
       "2           Murray Hill      6083.333333  40.74767  -73.97500           2   \n",
       "3        Hell's Kitchen      2402.916667  40.76489  -73.98493           3   \n",
       "4             Chinatown      4562.500000  40.71344  -73.99037           4   \n",
       "...                 ...              ...       ...        ...         ...   \n",
       "25197   Upper East Side      3923.750000  40.78099  -73.95366       25204   \n",
       "25198          Flushing      1368.750000  40.75104  -73.81459       25205   \n",
       "25199       Great Kills      7147.916667  40.54179  -74.14275       25206   \n",
       "25200        Mott Haven      3041.666667  40.80787  -73.92400       25207   \n",
       "25201          Bushwick       912.500000  40.69805  -73.92801       25208   \n",
       "\n",
       "                                      description        room_type  \n",
       "0                           Skylit Midtown Castle  entire home/apt  \n",
       "1                 Cozy Entire Floor of Brownstone  entire home/apt  \n",
       "2       Large Cozy 1 BR Apartment In Midtown East  entire home/apt  \n",
       "3                 Large Furnished Room Near B'way     private room  \n",
       "4              Cute & Cozy Lower East Side 1 bdrm  entire home/apt  \n",
       "...                                           ...              ...  \n",
       "25197  Lovely Privet Bedroom with Privet Restroom     private room  \n",
       "25198                    No.2 with queen size bed     private room  \n",
       "25199                             Seas The Moment     private room  \n",
       "25200               1B-1B apartment near by Metro  entire home/apt  \n",
       "25201     Cozy Private Room in Bushwick, Brooklyn     private room  \n",
       "\n",
       "[25202 rows x 20 columns]"
      ]
     },
     "execution_count": 44,
     "metadata": {},
     "output_type": "execute_result"
    }
   ],
   "source": [
    "#we will replace the values in host_name by the most common values grouped by room_type by filling it by mode\n",
    "merged_df_1['host_name'] = merged_df_1.groupby('room_type')['host_name'].apply(lambda x: x.fillna(x.mode().iloc[0]))\n",
    "merged_df_1"
   ]
  },
  {
   "cell_type": "markdown",
   "metadata": {},
   "source": [
    "<font color='green'><h3>Filling the values in description </h3></font>"
   ]
  },
  {
   "cell_type": "code",
   "execution_count": 47,
   "metadata": {},
   "outputs": [
    {
     "data": {
      "text/plain": [
       "array(['Skylit Midtown Castle', 'Cozy Entire Floor of Brownstone',\n",
       "       'Large Cozy 1 BR Apartment In Midtown East', ...,\n",
       "       'Seas The Moment', '1B-1B apartment near by Metro',\n",
       "       'Cozy Private Room in Bushwick, Brooklyn'], dtype=object)"
      ]
     },
     "execution_count": 47,
     "metadata": {},
     "output_type": "execute_result"
    }
   ],
   "source": [
    "merged_df_1['description'].unique()"
   ]
  },
  {
   "cell_type": "code",
   "execution_count": 50,
   "metadata": {
    "scrolled": true
   },
   "outputs": [
    {
     "name": "stderr",
     "output_type": "stream",
     "text": [
      "<ipython-input-50-61627a6a6412>:2: FutureWarning: Not prepending group keys to the result index of transform-like apply. In the future, the group keys will be included in the index, regardless of whether the applied function returns a like-indexed object.\n",
      "To preserve the previous behavior, use\n",
      "\n",
      "\t>>> .groupby(..., group_keys=False)\n",
      "\n",
      "To adopt the future behavior and silence this warning, use \n",
      "\n",
      "\t>>> .groupby(..., group_keys=True)\n",
      "  merged_df_1['description'] = merged_df_1.groupby('neighbourhood')['description'].apply(lambda x: x.fillna(x.mode().iloc[0]))\n"
     ]
    },
    {
     "data": {
      "text/html": [
       "<div>\n",
       "<style scoped>\n",
       "    .dataframe tbody tr th:only-of-type {\n",
       "        vertical-align: middle;\n",
       "    }\n",
       "\n",
       "    .dataframe tbody tr th {\n",
       "        vertical-align: top;\n",
       "    }\n",
       "\n",
       "    .dataframe thead th {\n",
       "        text-align: right;\n",
       "    }\n",
       "</style>\n",
       "<table border=\"1\" class=\"dataframe\">\n",
       "  <thead>\n",
       "    <tr style=\"text-align: right;\">\n",
       "      <th></th>\n",
       "      <th>Unnamed: 0_x</th>\n",
       "      <th>listing_id</th>\n",
       "      <th>host_name</th>\n",
       "      <th>last_review</th>\n",
       "      <th>minimum_nights</th>\n",
       "      <th>number_of_reviews</th>\n",
       "      <th>reviews_per_month</th>\n",
       "      <th>calculated_host_listings_count</th>\n",
       "      <th>availability_365</th>\n",
       "      <th>booked_days_365</th>\n",
       "      <th>Unnamed: 0_y</th>\n",
       "      <th>price</th>\n",
       "      <th>borough</th>\n",
       "      <th>neighbourhood</th>\n",
       "      <th>price_per_month</th>\n",
       "      <th>latitude</th>\n",
       "      <th>longitude</th>\n",
       "      <th>Unnamed: 0</th>\n",
       "      <th>description</th>\n",
       "      <th>room_type</th>\n",
       "    </tr>\n",
       "  </thead>\n",
       "  <tbody>\n",
       "    <tr>\n",
       "      <th>0</th>\n",
       "      <td>0</td>\n",
       "      <td>2595</td>\n",
       "      <td>Jennifer</td>\n",
       "      <td>21/05/2019</td>\n",
       "      <td>1</td>\n",
       "      <td>45</td>\n",
       "      <td>0.38</td>\n",
       "      <td>2</td>\n",
       "      <td>355</td>\n",
       "      <td>10</td>\n",
       "      <td>0</td>\n",
       "      <td>225</td>\n",
       "      <td>Manhattan</td>\n",
       "      <td>Midtown</td>\n",
       "      <td>6843.750000</td>\n",
       "      <td>40.75362</td>\n",
       "      <td>-73.98377</td>\n",
       "      <td>0</td>\n",
       "      <td>Skylit Midtown Castle</td>\n",
       "      <td>entire home/apt</td>\n",
       "    </tr>\n",
       "    <tr>\n",
       "      <th>1</th>\n",
       "      <td>1</td>\n",
       "      <td>3831</td>\n",
       "      <td>LisaRoxanne</td>\n",
       "      <td>05/07/2019</td>\n",
       "      <td>1</td>\n",
       "      <td>270</td>\n",
       "      <td>4.64</td>\n",
       "      <td>1</td>\n",
       "      <td>194</td>\n",
       "      <td>171</td>\n",
       "      <td>1</td>\n",
       "      <td>89</td>\n",
       "      <td>Brooklyn</td>\n",
       "      <td>Clinton Hill</td>\n",
       "      <td>2707.083333</td>\n",
       "      <td>40.68514</td>\n",
       "      <td>-73.95976</td>\n",
       "      <td>1</td>\n",
       "      <td>Cozy Entire Floor of Brownstone</td>\n",
       "      <td>entire home/apt</td>\n",
       "    </tr>\n",
       "    <tr>\n",
       "      <th>2</th>\n",
       "      <td>2</td>\n",
       "      <td>5099</td>\n",
       "      <td>Chris</td>\n",
       "      <td>22/06/2019</td>\n",
       "      <td>3</td>\n",
       "      <td>74</td>\n",
       "      <td>0.59</td>\n",
       "      <td>1</td>\n",
       "      <td>129</td>\n",
       "      <td>236</td>\n",
       "      <td>2</td>\n",
       "      <td>200</td>\n",
       "      <td>Manhattan</td>\n",
       "      <td>Murray Hill</td>\n",
       "      <td>6083.333333</td>\n",
       "      <td>40.74767</td>\n",
       "      <td>-73.97500</td>\n",
       "      <td>2</td>\n",
       "      <td>Large Cozy 1 BR Apartment In Midtown East</td>\n",
       "      <td>entire home/apt</td>\n",
       "    </tr>\n",
       "    <tr>\n",
       "      <th>3</th>\n",
       "      <td>3</td>\n",
       "      <td>5178</td>\n",
       "      <td>Shunichi</td>\n",
       "      <td>24/06/2019</td>\n",
       "      <td>2</td>\n",
       "      <td>430</td>\n",
       "      <td>3.47</td>\n",
       "      <td>1</td>\n",
       "      <td>220</td>\n",
       "      <td>145</td>\n",
       "      <td>3</td>\n",
       "      <td>79</td>\n",
       "      <td>Manhattan</td>\n",
       "      <td>Hell's Kitchen</td>\n",
       "      <td>2402.916667</td>\n",
       "      <td>40.76489</td>\n",
       "      <td>-73.98493</td>\n",
       "      <td>3</td>\n",
       "      <td>Large Furnished Room Near B'way</td>\n",
       "      <td>private room</td>\n",
       "    </tr>\n",
       "    <tr>\n",
       "      <th>4</th>\n",
       "      <td>4</td>\n",
       "      <td>5238</td>\n",
       "      <td>Ben</td>\n",
       "      <td>09/06/2019</td>\n",
       "      <td>1</td>\n",
       "      <td>160</td>\n",
       "      <td>1.33</td>\n",
       "      <td>4</td>\n",
       "      <td>188</td>\n",
       "      <td>177</td>\n",
       "      <td>4</td>\n",
       "      <td>150</td>\n",
       "      <td>Manhattan</td>\n",
       "      <td>Chinatown</td>\n",
       "      <td>4562.500000</td>\n",
       "      <td>40.71344</td>\n",
       "      <td>-73.99037</td>\n",
       "      <td>4</td>\n",
       "      <td>Cute &amp; Cozy Lower East Side 1 bdrm</td>\n",
       "      <td>entire home/apt</td>\n",
       "    </tr>\n",
       "    <tr>\n",
       "      <th>...</th>\n",
       "      <td>...</td>\n",
       "      <td>...</td>\n",
       "      <td>...</td>\n",
       "      <td>...</td>\n",
       "      <td>...</td>\n",
       "      <td>...</td>\n",
       "      <td>...</td>\n",
       "      <td>...</td>\n",
       "      <td>...</td>\n",
       "      <td>...</td>\n",
       "      <td>...</td>\n",
       "      <td>...</td>\n",
       "      <td>...</td>\n",
       "      <td>...</td>\n",
       "      <td>...</td>\n",
       "      <td>...</td>\n",
       "      <td>...</td>\n",
       "      <td>...</td>\n",
       "      <td>...</td>\n",
       "      <td>...</td>\n",
       "    </tr>\n",
       "    <tr>\n",
       "      <th>25197</th>\n",
       "      <td>25204</td>\n",
       "      <td>36425863</td>\n",
       "      <td>Rusaa</td>\n",
       "      <td>07/07/2019</td>\n",
       "      <td>1</td>\n",
       "      <td>1</td>\n",
       "      <td>1.00</td>\n",
       "      <td>1</td>\n",
       "      <td>147</td>\n",
       "      <td>218</td>\n",
       "      <td>25204</td>\n",
       "      <td>129</td>\n",
       "      <td>Manhattan</td>\n",
       "      <td>Upper East Side</td>\n",
       "      <td>3923.750000</td>\n",
       "      <td>40.78099</td>\n",
       "      <td>-73.95366</td>\n",
       "      <td>25204</td>\n",
       "      <td>Lovely Privet Bedroom with Privet Restroom</td>\n",
       "      <td>private room</td>\n",
       "    </tr>\n",
       "    <tr>\n",
       "      <th>25198</th>\n",
       "      <td>25205</td>\n",
       "      <td>36427429</td>\n",
       "      <td>H Ai</td>\n",
       "      <td>07/07/2019</td>\n",
       "      <td>1</td>\n",
       "      <td>1</td>\n",
       "      <td>1.00</td>\n",
       "      <td>6</td>\n",
       "      <td>339</td>\n",
       "      <td>26</td>\n",
       "      <td>25205</td>\n",
       "      <td>45</td>\n",
       "      <td>Queens</td>\n",
       "      <td>Flushing</td>\n",
       "      <td>1368.750000</td>\n",
       "      <td>40.75104</td>\n",
       "      <td>-73.81459</td>\n",
       "      <td>25205</td>\n",
       "      <td>No.2 with queen size bed</td>\n",
       "      <td>private room</td>\n",
       "    </tr>\n",
       "    <tr>\n",
       "      <th>25199</th>\n",
       "      <td>25206</td>\n",
       "      <td>36438336</td>\n",
       "      <td>Ben</td>\n",
       "      <td>07/07/2019</td>\n",
       "      <td>1</td>\n",
       "      <td>1</td>\n",
       "      <td>1.00</td>\n",
       "      <td>1</td>\n",
       "      <td>87</td>\n",
       "      <td>278</td>\n",
       "      <td>25206</td>\n",
       "      <td>235</td>\n",
       "      <td>Staten Island</td>\n",
       "      <td>Great Kills</td>\n",
       "      <td>7147.916667</td>\n",
       "      <td>40.54179</td>\n",
       "      <td>-74.14275</td>\n",
       "      <td>25206</td>\n",
       "      <td>Seas The Moment</td>\n",
       "      <td>private room</td>\n",
       "    </tr>\n",
       "    <tr>\n",
       "      <th>25200</th>\n",
       "      <td>25207</td>\n",
       "      <td>36442252</td>\n",
       "      <td>Blaine</td>\n",
       "      <td>07/07/2019</td>\n",
       "      <td>1</td>\n",
       "      <td>2</td>\n",
       "      <td>2.00</td>\n",
       "      <td>1</td>\n",
       "      <td>40</td>\n",
       "      <td>325</td>\n",
       "      <td>25207</td>\n",
       "      <td>100</td>\n",
       "      <td>Bronx</td>\n",
       "      <td>Mott Haven</td>\n",
       "      <td>3041.666667</td>\n",
       "      <td>40.80787</td>\n",
       "      <td>-73.92400</td>\n",
       "      <td>25207</td>\n",
       "      <td>1B-1B apartment near by Metro</td>\n",
       "      <td>entire home/apt</td>\n",
       "    </tr>\n",
       "    <tr>\n",
       "      <th>25201</th>\n",
       "      <td>25208</td>\n",
       "      <td>36455809</td>\n",
       "      <td>Christine</td>\n",
       "      <td>08/07/2019</td>\n",
       "      <td>1</td>\n",
       "      <td>1</td>\n",
       "      <td>1.00</td>\n",
       "      <td>1</td>\n",
       "      <td>1</td>\n",
       "      <td>364</td>\n",
       "      <td>25208</td>\n",
       "      <td>30</td>\n",
       "      <td>Brooklyn</td>\n",
       "      <td>Bushwick</td>\n",
       "      <td>912.500000</td>\n",
       "      <td>40.69805</td>\n",
       "      <td>-73.92801</td>\n",
       "      <td>25208</td>\n",
       "      <td>Cozy Private Room in Bushwick, Brooklyn</td>\n",
       "      <td>private room</td>\n",
       "    </tr>\n",
       "  </tbody>\n",
       "</table>\n",
       "<p>25202 rows × 20 columns</p>\n",
       "</div>"
      ],
      "text/plain": [
       "       Unnamed: 0_x  listing_id    host_name last_review  minimum_nights  \\\n",
       "0                 0        2595     Jennifer  21/05/2019               1   \n",
       "1                 1        3831  LisaRoxanne  05/07/2019               1   \n",
       "2                 2        5099        Chris  22/06/2019               3   \n",
       "3                 3        5178     Shunichi  24/06/2019               2   \n",
       "4                 4        5238          Ben  09/06/2019               1   \n",
       "...             ...         ...          ...         ...             ...   \n",
       "25197         25204    36425863        Rusaa  07/07/2019               1   \n",
       "25198         25205    36427429         H Ai  07/07/2019               1   \n",
       "25199         25206    36438336          Ben  07/07/2019               1   \n",
       "25200         25207    36442252       Blaine  07/07/2019               1   \n",
       "25201         25208    36455809    Christine  08/07/2019               1   \n",
       "\n",
       "       number_of_reviews  reviews_per_month  calculated_host_listings_count  \\\n",
       "0                     45               0.38                               2   \n",
       "1                    270               4.64                               1   \n",
       "2                     74               0.59                               1   \n",
       "3                    430               3.47                               1   \n",
       "4                    160               1.33                               4   \n",
       "...                  ...                ...                             ...   \n",
       "25197                  1               1.00                               1   \n",
       "25198                  1               1.00                               6   \n",
       "25199                  1               1.00                               1   \n",
       "25200                  2               2.00                               1   \n",
       "25201                  1               1.00                               1   \n",
       "\n",
       "       availability_365  booked_days_365  Unnamed: 0_y  price        borough  \\\n",
       "0                   355               10             0    225      Manhattan   \n",
       "1                   194              171             1     89       Brooklyn   \n",
       "2                   129              236             2    200      Manhattan   \n",
       "3                   220              145             3     79      Manhattan   \n",
       "4                   188              177             4    150      Manhattan   \n",
       "...                 ...              ...           ...    ...            ...   \n",
       "25197               147              218         25204    129      Manhattan   \n",
       "25198               339               26         25205     45         Queens   \n",
       "25199                87              278         25206    235  Staten Island   \n",
       "25200                40              325         25207    100          Bronx   \n",
       "25201                 1              364         25208     30       Brooklyn   \n",
       "\n",
       "          neighbourhood  price_per_month  latitude  longitude  Unnamed: 0  \\\n",
       "0               Midtown      6843.750000  40.75362  -73.98377           0   \n",
       "1          Clinton Hill      2707.083333  40.68514  -73.95976           1   \n",
       "2           Murray Hill      6083.333333  40.74767  -73.97500           2   \n",
       "3        Hell's Kitchen      2402.916667  40.76489  -73.98493           3   \n",
       "4             Chinatown      4562.500000  40.71344  -73.99037           4   \n",
       "...                 ...              ...       ...        ...         ...   \n",
       "25197   Upper East Side      3923.750000  40.78099  -73.95366       25204   \n",
       "25198          Flushing      1368.750000  40.75104  -73.81459       25205   \n",
       "25199       Great Kills      7147.916667  40.54179  -74.14275       25206   \n",
       "25200        Mott Haven      3041.666667  40.80787  -73.92400       25207   \n",
       "25201          Bushwick       912.500000  40.69805  -73.92801       25208   \n",
       "\n",
       "                                      description        room_type  \n",
       "0                           Skylit Midtown Castle  entire home/apt  \n",
       "1                 Cozy Entire Floor of Brownstone  entire home/apt  \n",
       "2       Large Cozy 1 BR Apartment In Midtown East  entire home/apt  \n",
       "3                 Large Furnished Room Near B'way     private room  \n",
       "4              Cute & Cozy Lower East Side 1 bdrm  entire home/apt  \n",
       "...                                           ...              ...  \n",
       "25197  Lovely Privet Bedroom with Privet Restroom     private room  \n",
       "25198                    No.2 with queen size bed     private room  \n",
       "25199                             Seas The Moment     private room  \n",
       "25200               1B-1B apartment near by Metro  entire home/apt  \n",
       "25201     Cozy Private Room in Bushwick, Brooklyn     private room  \n",
       "\n",
       "[25202 rows x 20 columns]"
      ]
     },
     "execution_count": 50,
     "metadata": {},
     "output_type": "execute_result"
    }
   ],
   "source": [
    "#we can fill it by using mode groupby model column\n",
    "merged_df_1['description'] = merged_df_1.groupby('neighbourhood')['description'].apply(lambda x: x.fillna(x.mode().iloc[0]))\n",
    "merged_df_1"
   ]
  },
  {
   "cell_type": "code",
   "execution_count": 52,
   "metadata": {},
   "outputs": [
    {
     "data": {
      "text/plain": [
       "Unnamed: 0_x                      0\n",
       "listing_id                        0\n",
       "host_name                         0\n",
       "last_review                       0\n",
       "minimum_nights                    0\n",
       "number_of_reviews                 0\n",
       "reviews_per_month                 0\n",
       "calculated_host_listings_count    0\n",
       "availability_365                  0\n",
       "booked_days_365                   0\n",
       "Unnamed: 0_y                      0\n",
       "price                             0\n",
       "borough                           0\n",
       "neighbourhood                     0\n",
       "price_per_month                   0\n",
       "latitude                          0\n",
       "longitude                         0\n",
       "Unnamed: 0                        0\n",
       "description                       0\n",
       "room_type                         0\n",
       "dtype: int64"
      ]
     },
     "execution_count": 52,
     "metadata": {},
     "output_type": "execute_result"
    }
   ],
   "source": [
    "merged_df_1.isnull().sum()"
   ]
  },
  {
   "cell_type": "markdown",
   "metadata": {},
   "source": [
    "it can be seen that there is a lot of missing values in host_name and description . We will then replace them by using function mode ,the values in host_name by the most common values grouped by room_type , replace the description with borough."
   ]
  },
  {
   "cell_type": "markdown",
   "metadata": {},
   "source": [
    "<font color='green'><h3>DATATYPE REPLACEMENT </h3></font>"
   ]
  },
  {
   "cell_type": "code",
   "execution_count": 53,
   "metadata": {},
   "outputs": [
    {
     "name": "stdout",
     "output_type": "stream",
     "text": [
      "<class 'pandas.core.frame.DataFrame'>\n",
      "Int64Index: 25202 entries, 0 to 25201\n",
      "Data columns (total 20 columns):\n",
      " #   Column                          Non-Null Count  Dtype  \n",
      "---  ------                          --------------  -----  \n",
      " 0   Unnamed: 0_x                    25202 non-null  int64  \n",
      " 1   listing_id                      25202 non-null  int64  \n",
      " 2   host_name                       25202 non-null  object \n",
      " 3   last_review                     25202 non-null  object \n",
      " 4   minimum_nights                  25202 non-null  int64  \n",
      " 5   number_of_reviews               25202 non-null  int64  \n",
      " 6   reviews_per_month               25202 non-null  float64\n",
      " 7   calculated_host_listings_count  25202 non-null  int64  \n",
      " 8   availability_365                25202 non-null  int64  \n",
      " 9   booked_days_365                 25202 non-null  int64  \n",
      " 10  Unnamed: 0_y                    25202 non-null  int64  \n",
      " 11  price                           25202 non-null  int64  \n",
      " 12  borough                         25202 non-null  object \n",
      " 13  neighbourhood                   25202 non-null  object \n",
      " 14  price_per_month                 25202 non-null  float64\n",
      " 15  latitude                        25202 non-null  float64\n",
      " 16  longitude                       25202 non-null  float64\n",
      " 17  Unnamed: 0                      25202 non-null  int64  \n",
      " 18  description                     25202 non-null  object \n",
      " 19  room_type                       25202 non-null  object \n",
      "dtypes: float64(4), int64(10), object(6)\n",
      "memory usage: 4.0+ MB\n"
     ]
    }
   ],
   "source": [
    "merged_df_1.info()"
   ]
  },
  {
   "cell_type": "code",
   "execution_count": 54,
   "metadata": {},
   "outputs": [],
   "source": [
    "#we will convert the model year in int\n",
    "#df['model_year'] = df['model_year'].astype('int')\n",
    "#df['year'] = df['year'].astype('int')\n",
    "#df['vehicle_age'] = df['vehicle_age'].astype('int')\n",
    "#df['odometer'] = df['odometer'].astype('int')\n",
    "#df['cylinders'] = df['cylinders'].astype('int')#converting cylinders from float to int\n",
    "#df['is_4wd'] = df['is_4wd'].astype('bool')#is_4wd to bool\n",
    "#df['date_posted']= pd.to_datetime(df['date_posted'])#converting days_posted into date time format\n",
    "#df.info()"
   ]
  },
  {
   "cell_type": "markdown",
   "metadata": {},
   "source": [
    "### Step 4. Carry out exploratory data analysis"
   ]
  },
  {
   "cell_type": "markdown",
   "metadata": {},
   "source": [
    "<font color='green'><h3>What are the most popular neighborhoods for short-term rentals in New York City? </h3></font>"
   ]
  },
  {
   "cell_type": "code",
   "execution_count": 57,
   "metadata": {},
   "outputs": [
    {
     "name": "stdout",
     "output_type": "stream",
     "text": [
      "Top 10 most popular neighborhoods for short-term rentals:\n",
      "         neighbourhood  number_of_reviews\n",
      "5219           Jamaica                629\n",
      "1242            Harlem                607\n",
      "1241            Harlem                597\n",
      "1232            Harlem                594\n",
      "5707           Jamaica                576\n",
      "4821     East Elmhurst                543\n",
      "1152   Lower East Side                540\n",
      "8485     East Elmhurst                510\n",
      "2626        Park Slope                488\n",
      "337           Bushwick                480\n"
     ]
    }
   ],
   "source": [
    "# Sort the DataFrame by the number_of_reviews column in descending order\n",
    "popular_neighborhoods = merged_df_1.sort_values(by='number_of_reviews', ascending=False)\n",
    "\n",
    "# Display the top N neighborhoods (adjust N as needed)\n",
    "N = 10  # You can change this to display more or fewer neighborhoods\n",
    "top_neighborhoods = popular_neighborhoods[['neighbourhood', 'number_of_reviews']].head(N)\n",
    "\n",
    "# Print the top N neighborhoods\n",
    "print(f\"Top {N} most popular neighborhoods for short-term rentals:\")\n",
    "print(top_neighborhoods)\n"
   ]
  },
  {
   "cell_type": "markdown",
   "metadata": {},
   "source": [
    "<font color='green'><h3>What is the average rental price for short-term rentals in New York City, and how does it vary by neighborhood and property type? </h3></font>"
   ]
  },
  {
   "cell_type": "code",
   "execution_count": 58,
   "metadata": {},
   "outputs": [
    {
     "name": "stdout",
     "output_type": "stream",
     "text": [
      "Average rental prices by neighborhood and property type:\n",
      "      neighbourhood        room_type       price\n",
      "0          Allerton  entire home/apt  128.500000\n",
      "1          Allerton     private room   73.062500\n",
      "2     Arden Heights  entire home/apt   76.000000\n",
      "3     Arden Heights     private room   41.000000\n",
      "4          Arrochar  entire home/apt  141.333333\n",
      "..              ...              ...         ...\n",
      "484        Woodlawn  entire home/apt   65.500000\n",
      "485        Woodlawn     private room   48.250000\n",
      "486        Woodside  entire home/apt  145.553191\n",
      "487        Woodside     private room   53.392405\n",
      "488        Woodside      shared room   65.000000\n",
      "\n",
      "[489 rows x 3 columns]\n"
     ]
    }
   ],
   "source": [
    "# Group the data by 'neighbourhood' and 'room_type' and calculate the mean price within each group\n",
    "average_prices = merged_df_1.groupby(['neighbourhood', 'room_type'])['price'].mean().reset_index()\n",
    "\n",
    "# Display the average prices\n",
    "print(\"Average rental prices by neighborhood and property type:\")\n",
    "print(average_prices)"
   ]
  },
  {
   "cell_type": "markdown",
   "metadata": {},
   "source": [
    "<font color='green'><h3>What are the most commonly rented property types on Airbnb in New York City, and how does this vary by neighborhood?</h3></font>"
   ]
  },
  {
   "cell_type": "code",
   "execution_count": 78,
   "metadata": {},
   "outputs": [
    {
     "name": "stdout",
     "output_type": "stream",
     "text": [
      "Most commonly rented property types by neighborhood:\n",
      "        neighbourhood most_common_type\n",
      "0            Allerton     private room\n",
      "1       Arden Heights  entire home/apt\n",
      "2            Arrochar     private room\n",
      "3             Arverne  entire home/apt\n",
      "4             Astoria     private room\n",
      "..                ...              ...\n",
      "211       Willowbrook  entire home/apt\n",
      "212   Windsor Terrace  entire home/apt\n",
      "213         Woodhaven     private room\n",
      "214          Woodlawn  entire home/apt\n",
      "215          Woodside     private room\n",
      "\n",
      "[216 rows x 2 columns]\n"
     ]
    }
   ],
   "source": [
    "# Group the data by 'neighbourhood' and 'room_type' and count the occurrences within each group\n",
    "property_type_counts = merged_df_1.groupby(['neighbourhood', 'room_type']).size().reset_index(name='count')\n",
    "#print(property_type_counts)\n",
    "# Find the most commonly rented property type in each neighborhood(idxmax() to identify the index with the maximum count within each neighborhood group.)\n",
    "most_common_property_type = property_type_counts.groupby('neighbourhood').apply(lambda x: x['room_type'][x['count'].idxmax()]).reset_index(name='most_common_type')\n",
    "\n",
    "# Display the most common property type by neighborhood\n",
    "print(\"Most commonly rented property types by neighborhood:\")\n",
    "print(most_common_property_type['most_common_type'].value_)\n"
   ]
  },
  {
   "cell_type": "markdown",
   "metadata": {},
   "source": [
    "<font color='green'><h3>What is the average length of stay for short-term rentals in New York City, and how does this vary by neighborhood and property type?</h3></font>"
   ]
  },
  {
   "cell_type": "code",
   "execution_count": 67,
   "metadata": {},
   "outputs": [
    {
     "name": "stdout",
     "output_type": "stream",
     "text": [
      "Average length of stay by neighborhood and property type:\n",
      "      neighbourhood        room_type  minimum_nights\n",
      "0          Allerton  entire home/apt        2.285714\n",
      "1          Allerton     private room        2.000000\n",
      "2     Arden Heights  entire home/apt       12.000000\n",
      "3     Arden Heights     private room        2.000000\n",
      "4          Arrochar  entire home/apt        1.777778\n",
      "..              ...              ...             ...\n",
      "484        Woodlawn  entire home/apt        1.500000\n",
      "485        Woodlawn     private room        1.250000\n",
      "486        Woodside  entire home/apt        2.978723\n",
      "487        Woodside     private room       13.012658\n",
      "488        Woodside      shared room        2.000000\n",
      "\n",
      "[489 rows x 3 columns]\n"
     ]
    }
   ],
   "source": [
    "# Group the data by 'neighbourhood' and 'room_type' and calculate the average minimum_nights within each group\n",
    "average_stay_length = merged_df_1.groupby(['neighbourhood', 'room_type'])['minimum_nights'].mean().reset_index()\n",
    "\n",
    "# Display the average stay length by neighborhood and property type\n",
    "print(\"Average length of stay by neighborhood and property type:\")\n",
    "print(average_stay_length)"
   ]
  },
  {
   "cell_type": "markdown",
   "metadata": {},
   "source": [
    "<font color='green'><h3>How has demand for short-term rentals in New York City changed over time, and are there any seasonal trends that could impact business decisions?</h3></font>"
   ]
  },
  {
   "cell_type": "code",
   "execution_count": 75,
   "metadata": {},
   "outputs": [
    {
     "name": "stdout",
     "output_type": "stream",
     "text": [
      "       Unnamed: 0_x  listing_id    host_name last_review  minimum_nights  \\\n",
      "0                 0        2595     Jennifer  2019-05-21               1   \n",
      "1                 1        3831  LisaRoxanne  2019-05-07               1   \n",
      "2                 2        5099        Chris  2019-06-22               3   \n",
      "3                 3        5178     Shunichi  2019-06-24               2   \n",
      "4                 4        5238          Ben  2019-09-06               1   \n",
      "...             ...         ...          ...         ...             ...   \n",
      "25197         25204    36425863        Rusaa  2019-07-07               1   \n",
      "25198         25205    36427429         H Ai  2019-07-07               1   \n",
      "25199         25206    36438336          Ben  2019-07-07               1   \n",
      "25200         25207    36442252       Blaine  2019-07-07               1   \n",
      "25201         25208    36455809    Christine  2019-08-07               1   \n",
      "\n",
      "       number_of_reviews  reviews_per_month  calculated_host_listings_count  \\\n",
      "0                     45               0.38                               2   \n",
      "1                    270               4.64                               1   \n",
      "2                     74               0.59                               1   \n",
      "3                    430               3.47                               1   \n",
      "4                    160               1.33                               4   \n",
      "...                  ...                ...                             ...   \n",
      "25197                  1               1.00                               1   \n",
      "25198                  1               1.00                               6   \n",
      "25199                  1               1.00                               1   \n",
      "25200                  2               2.00                               1   \n",
      "25201                  1               1.00                               1   \n",
      "\n",
      "       availability_365  booked_days_365  ...        borough  \\\n",
      "0                   355               10  ...      Manhattan   \n",
      "1                   194              171  ...       Brooklyn   \n",
      "2                   129              236  ...      Manhattan   \n",
      "3                   220              145  ...      Manhattan   \n",
      "4                   188              177  ...      Manhattan   \n",
      "...                 ...              ...  ...            ...   \n",
      "25197               147              218  ...      Manhattan   \n",
      "25198               339               26  ...         Queens   \n",
      "25199                87              278  ...  Staten Island   \n",
      "25200                40              325  ...          Bronx   \n",
      "25201                 1              364  ...       Brooklyn   \n",
      "\n",
      "          neighbourhood price_per_month  latitude  longitude  Unnamed: 0  \\\n",
      "0               Midtown     6843.750000  40.75362  -73.98377           0   \n",
      "1          Clinton Hill     2707.083333  40.68514  -73.95976           1   \n",
      "2           Murray Hill     6083.333333  40.74767  -73.97500           2   \n",
      "3        Hell's Kitchen     2402.916667  40.76489  -73.98493           3   \n",
      "4             Chinatown     4562.500000  40.71344  -73.99037           4   \n",
      "...                 ...             ...       ...        ...         ...   \n",
      "25197   Upper East Side     3923.750000  40.78099  -73.95366       25204   \n",
      "25198          Flushing     1368.750000  40.75104  -73.81459       25205   \n",
      "25199       Great Kills     7147.916667  40.54179  -74.14275       25206   \n",
      "25200        Mott Haven     3041.666667  40.80787  -73.92400       25207   \n",
      "25201          Bushwick      912.500000  40.69805  -73.92801       25208   \n",
      "\n",
      "                                      description        room_type  year month  \n",
      "0                           Skylit Midtown Castle  entire home/apt  2019     5  \n",
      "1                 Cozy Entire Floor of Brownstone  entire home/apt  2019     5  \n",
      "2       Large Cozy 1 BR Apartment In Midtown East  entire home/apt  2019     6  \n",
      "3                 Large Furnished Room Near B'way     private room  2019     6  \n",
      "4              Cute & Cozy Lower East Side 1 bdrm  entire home/apt  2019     9  \n",
      "...                                           ...              ...   ...   ...  \n",
      "25197  Lovely Privet Bedroom with Privet Restroom     private room  2019     7  \n",
      "25198                    No.2 with queen size bed     private room  2019     7  \n",
      "25199                             Seas The Moment     private room  2019     7  \n",
      "25200               1B-1B apartment near by Metro  entire home/apt  2019     7  \n",
      "25201     Cozy Private Room in Bushwick, Brooklyn     private room  2019     8  \n",
      "\n",
      "[25202 rows x 22 columns]\n"
     ]
    },
    {
     "data": {
      "image/png": "[encoded data removed]",
      "text/plain": [
       "<Figure size 864x432 with 1 Axes>"
      ]
     },
     "metadata": {
      "needs_background": "light"
     },
     "output_type": "display_data"
    },
    {
     "name": "stdout",
     "output_type": "stream",
     "text": [
      "    year  month  booked_days_365\n",
      "0   2019      1           575329\n",
      "1   2019      2           390697\n",
      "2   2019      3           346905\n",
      "3   2019      4           411606\n",
      "4   2019      5           798930\n",
      "5   2019      6          2273740\n",
      "6   2019      7           232513\n",
      "7   2019      8           102454\n",
      "8   2019      9           112687\n",
      "9   2019     10           101691\n",
      "10  2019     11            80239\n",
      "11  2019     12            82549\n"
     ]
    }
   ],
   "source": [
    "# Convert the date column to a datetime object\n",
    "merged_df_1['last_review'] = pd.to_datetime(merged_df_1['last_review'])\n",
    "\n",
    "# Extract year and month from the date column\n",
    "merged_df_1['year'] = merged_df_1['last_review'].dt.year\n",
    "merged_df_1['month'] = merged_df_1['last_review'].dt.month\n",
    "print(merged_df_1)\n",
    "# Group the data by year and month and calculate the total bookings for each period\n",
    "monthly_demand = merged_df_1.groupby(['year', 'month'])['booked_days_365'].sum().reset_index()\n",
    "# Plot the demand over time\n",
    "plt.figure(figsize=(12, 6))\n",
    "plt.plot(monthly_demand['month'], monthly_demand['booked_days_365'], marker='o')\n",
    "plt.title('Demand for Short-Term Rentals in NYC Over Time')\n",
    "plt.xlabel('Year-Month')\n",
    "plt.ylabel('Total Bookings')\n",
    "plt.grid(True)\n",
    "plt.show()\n",
    "\n",
    "\n",
    "print(monthly_demand)"
   ]
  },
  {
   "cell_type": "code",
   "execution_count": null,
   "metadata": {},
   "outputs": [],
   "source": []
  }
 ],
 "metadata": {
  "ExecuteTimeLog": [
   {
    "duration": 1460,
    "start_time": "2021-09-13T10:15:56.155Z"
   },
   {
    "duration": 152,
    "start_time": "2021-09-13T10:15:57.618Z"
   },
   {
    "duration": 10,
    "start_time": "2021-09-13T10:15:57.774Z"
   },
   {
    "duration": 33,
    "start_time": "2021-09-13T10:15:57.787Z"
   },
   {
    "duration": 4,
    "start_time": "2021-09-13T10:15:57.823Z"
   },
   {
    "duration": 62,
    "start_time": "2021-09-13T10:15:57.829Z"
   },
   {
    "duration": 25,
    "start_time": "2021-09-13T10:15:57.895Z"
   },
   {
    "duration": 31,
    "start_time": "2021-09-13T10:15:57.923Z"
   },
   {
    "duration": 14,
    "start_time": "2021-09-13T10:15:57.985Z"
   },
   {
    "duration": 10,
    "start_time": "2021-09-13T10:15:58.004Z"
   },
   {
    "duration": 18,
    "start_time": "2021-09-13T10:15:58.017Z"
   },
   {
    "duration": 10,
    "start_time": "2021-09-13T10:15:58.038Z"
   },
   {
    "duration": 144,
    "start_time": "2021-09-13T10:15:58.083Z"
   },
   {
    "duration": 6,
    "start_time": "2021-09-13T10:15:58.229Z"
   },
   {
    "duration": 121,
    "start_time": "2021-09-13T10:15:58.237Z"
   },
   {
    "duration": 23,
    "start_time": "2021-09-13T10:15:58.360Z"
   },
   {
    "duration": 99,
    "start_time": "2021-09-13T10:15:58.385Z"
   },
   {
    "duration": 18,
    "start_time": "2021-09-13T10:15:58.486Z"
   },
   {
    "duration": 24,
    "start_time": "2021-09-13T10:15:58.506Z"
   },
   {
    "duration": 6,
    "start_time": "2021-09-13T10:15:58.532Z"
   },
   {
    "duration": 96,
    "start_time": "2021-09-13T10:15:58.541Z"
   },
   {
    "duration": 5,
    "start_time": "2021-09-13T10:15:58.640Z"
   },
   {
    "duration": 40,
    "start_time": "2021-09-13T10:15:58.648Z"
   },
   {
    "duration": 25,
    "start_time": "2021-09-13T10:15:58.690Z"
   },
   {
    "duration": 65,
    "start_time": "2021-09-13T10:15:58.717Z"
   },
   {
    "duration": 4,
    "start_time": "2021-09-13T10:15:58.785Z"
   },
   {
    "duration": 48,
    "start_time": "2021-09-13T10:15:58.796Z"
   },
   {
    "duration": 57,
    "start_time": "2021-09-13T10:15:58.847Z"
   },
   {
    "duration": 21,
    "start_time": "2021-09-13T10:15:58.906Z"
   },
   {
    "duration": 31,
    "start_time": "2021-09-13T10:15:58.930Z"
   },
   {
    "duration": 35,
    "start_time": "2021-09-13T10:15:58.963Z"
   },
   {
    "duration": 8,
    "start_time": "2021-09-13T10:15:59.000Z"
   },
   {
    "duration": 530,
    "start_time": "2021-09-13T10:15:59.010Z"
   },
   {
    "duration": 5,
    "start_time": "2021-09-13T10:15:59.542Z"
   },
   {
    "duration": 349,
    "start_time": "2021-09-13T10:15:59.549Z"
   },
   {
    "duration": 6,
    "start_time": "2021-09-13T10:15:59.901Z"
   },
   {
    "duration": 374,
    "start_time": "2021-09-13T10:15:59.909Z"
   },
   {
    "duration": 11,
    "start_time": "2021-09-13T10:16:00.286Z"
   },
   {
    "duration": 288,
    "start_time": "2021-09-13T10:16:00.300Z"
   },
   {
    "duration": 326,
    "start_time": "2021-09-13T10:16:00.590Z"
   },
   {
    "duration": 12,
    "start_time": "2021-09-13T10:16:00.919Z"
   },
   {
    "duration": 1230,
    "start_time": "2021-09-13T10:16:00.933Z"
   },
   {
    "duration": 83,
    "start_time": "2021-09-13T10:16:02.165Z"
   },
   {
    "duration": 9,
    "start_time": "2021-09-13T10:16:02.250Z"
   },
   {
    "duration": 23,
    "start_time": "2021-09-13T10:16:02.261Z"
   },
   {
    "duration": 5,
    "start_time": "2021-09-13T10:16:02.286Z"
   },
   {
    "duration": 391,
    "start_time": "2021-09-13T10:16:02.293Z"
   },
   {
    "duration": -171,
    "start_time": "2021-09-13T10:16:02.858Z"
   },
   {
    "duration": -179,
    "start_time": "2021-09-13T10:16:02.867Z"
   },
   {
    "duration": -190,
    "start_time": "2021-09-13T10:16:02.879Z"
   },
   {
    "duration": -198,
    "start_time": "2021-09-13T10:16:02.889Z"
   },
   {
    "duration": -206,
    "start_time": "2021-09-13T10:16:02.898Z"
   },
   {
    "duration": -213,
    "start_time": "2021-09-13T10:16:02.907Z"
   },
   {
    "duration": -220,
    "start_time": "2021-09-13T10:16:02.915Z"
   },
   {
    "duration": -228,
    "start_time": "2021-09-13T10:16:02.924Z"
   },
   {
    "duration": -237,
    "start_time": "2021-09-13T10:16:02.934Z"
   },
   {
    "duration": -261,
    "start_time": "2021-09-13T10:16:02.960Z"
   },
   {
    "duration": -269,
    "start_time": "2021-09-13T10:16:02.969Z"
   },
   {
    "duration": -277,
    "start_time": "2021-09-13T10:16:02.979Z"
   },
   {
    "duration": -285,
    "start_time": "2021-09-13T10:16:02.988Z"
   },
   {
    "duration": -294,
    "start_time": "2021-09-13T10:16:02.998Z"
   },
   {
    "duration": -304,
    "start_time": "2021-09-13T10:16:03.009Z"
   },
   {
    "duration": -310,
    "start_time": "2021-09-13T10:16:03.017Z"
   },
   {
    "duration": -317,
    "start_time": "2021-09-13T10:16:03.025Z"
   },
   {
    "duration": -323,
    "start_time": "2021-09-13T10:16:03.032Z"
   },
   {
    "duration": -327,
    "start_time": "2021-09-13T10:16:03.037Z"
   },
   {
    "duration": -332,
    "start_time": "2021-09-13T10:16:03.043Z"
   },
   {
    "duration": -335,
    "start_time": "2021-09-13T10:16:03.047Z"
   },
   {
    "duration": -338,
    "start_time": "2021-09-13T10:16:03.052Z"
   },
   {
    "duration": -350,
    "start_time": "2021-09-13T10:16:03.065Z"
   },
   {
    "duration": -352,
    "start_time": "2021-09-13T10:16:03.069Z"
   },
   {
    "duration": -357,
    "start_time": "2021-09-13T10:16:03.075Z"
   },
   {
    "duration": -361,
    "start_time": "2021-09-13T10:16:03.080Z"
   },
   {
    "duration": -367,
    "start_time": "2021-09-13T10:16:03.087Z"
   },
   {
    "duration": 9,
    "start_time": "2021-09-13T10:16:27.835Z"
   },
   {
    "duration": 5,
    "start_time": "2021-09-13T10:16:30.283Z"
   },
   {
    "duration": 38,
    "start_time": "2021-09-13T10:16:32.615Z"
   },
   {
    "duration": 1533,
    "start_time": "2021-09-13T10:18:02.380Z"
   },
   {
    "duration": 124,
    "start_time": "2021-09-13T10:18:03.916Z"
   },
   {
    "duration": 5,
    "start_time": "2021-09-13T10:18:04.043Z"
   },
   {
    "duration": 39,
    "start_time": "2021-09-13T10:18:04.051Z"
   },
   {
    "duration": 3,
    "start_time": "2021-09-13T10:18:04.092Z"
   },
   {
    "duration": 34,
    "start_time": "2021-09-13T10:18:04.097Z"
   },
   {
    "duration": 16,
    "start_time": "2021-09-13T10:18:04.133Z"
   },
   {
    "duration": 39,
    "start_time": "2021-09-13T10:18:04.151Z"
   },
   {
    "duration": 13,
    "start_time": "2021-09-13T10:18:04.194Z"
   },
   {
    "duration": 7,
    "start_time": "2021-09-13T10:18:04.210Z"
   },
   {
    "duration": 13,
    "start_time": "2021-09-13T10:18:04.219Z"
   },
   {
    "duration": 15,
    "start_time": "2021-09-13T10:18:04.234Z"
   },
   {
    "duration": 135,
    "start_time": "2021-09-13T10:18:04.283Z"
   },
   {
    "duration": 6,
    "start_time": "2021-09-13T10:18:04.420Z"
   },
   {
    "duration": 122,
    "start_time": "2021-09-13T10:18:04.428Z"
   },
   {
    "duration": 10,
    "start_time": "2021-09-13T10:18:04.552Z"
   },
   {
    "duration": 105,
    "start_time": "2021-09-13T10:18:04.565Z"
   },
   {
    "duration": 27,
    "start_time": "2021-09-13T10:18:04.672Z"
   },
   {
    "duration": 34,
    "start_time": "2021-09-13T10:18:04.702Z"
   },
   {
    "duration": 6,
    "start_time": "2021-09-13T10:18:04.738Z"
   },
   {
    "duration": 91,
    "start_time": "2021-09-13T10:18:04.747Z"
   },
   {
    "duration": 5,
    "start_time": "2021-09-13T10:18:04.840Z"
   },
   {
    "duration": 41,
    "start_time": "2021-09-13T10:18:04.847Z"
   },
   {
    "duration": 24,
    "start_time": "2021-09-13T10:18:04.891Z"
   },
   {
    "duration": 65,
    "start_time": "2021-09-13T10:18:04.917Z"
   },
   {
    "duration": 5,
    "start_time": "2021-09-13T10:18:04.984Z"
   },
   {
    "duration": 52,
    "start_time": "2021-09-13T10:18:04.996Z"
   },
   {
    "duration": 54,
    "start_time": "2021-09-13T10:18:05.052Z"
   },
   {
    "duration": 20,
    "start_time": "2021-09-13T10:18:05.109Z"
   },
   {
    "duration": 50,
    "start_time": "2021-09-13T10:18:05.132Z"
   },
   {
    "duration": 23,
    "start_time": "2021-09-13T10:18:05.184Z"
   },
   {
    "duration": 4,
    "start_time": "2021-09-13T10:18:05.210Z"
   },
   {
    "duration": 551,
    "start_time": "2021-09-13T10:18:05.216Z"
   },
   {
    "duration": 14,
    "start_time": "2021-09-13T10:18:05.769Z"
   },
   {
    "duration": 346,
    "start_time": "2021-09-13T10:18:05.785Z"
   },
   {
    "duration": 6,
    "start_time": "2021-09-13T10:18:06.133Z"
   },
   {
    "duration": 351,
    "start_time": "2021-09-13T10:18:06.141Z"
   },
   {
    "duration": 12,
    "start_time": "2021-09-13T10:18:06.495Z"
   },
   {
    "duration": 296,
    "start_time": "2021-09-13T10:18:06.510Z"
   },
   {
    "duration": 306,
    "start_time": "2021-09-13T10:18:06.809Z"
   },
   {
    "duration": 12,
    "start_time": "2021-09-13T10:18:07.118Z"
   },
   {
    "duration": 1166,
    "start_time": "2021-09-13T10:18:07.133Z"
   },
   {
    "duration": 85,
    "start_time": "2021-09-13T10:18:08.302Z"
   },
   {
    "duration": 10,
    "start_time": "2021-09-13T10:18:08.390Z"
   },
   {
    "duration": 8,
    "start_time": "2021-09-13T10:18:08.402Z"
   },
   {
    "duration": 8,
    "start_time": "2021-09-13T10:18:08.412Z"
   },
   {
    "duration": 427,
    "start_time": "2021-09-13T10:18:08.423Z"
   },
   {
    "duration": -90,
    "start_time": "2021-09-13T10:18:08.943Z"
   },
   {
    "duration": -100,
    "start_time": "2021-09-13T10:18:08.954Z"
   },
   {
    "duration": -108,
    "start_time": "2021-09-13T10:18:08.964Z"
   },
   {
    "duration": -116,
    "start_time": "2021-09-13T10:18:08.973Z"
   },
   {
    "duration": -127,
    "start_time": "2021-09-13T10:18:08.985Z"
   },
   {
    "duration": -137,
    "start_time": "2021-09-13T10:18:08.997Z"
   },
   {
    "duration": -146,
    "start_time": "2021-09-13T10:18:09.007Z"
   },
   {
    "duration": -149,
    "start_time": "2021-09-13T10:18:09.012Z"
   },
   {
    "duration": -153,
    "start_time": "2021-09-13T10:18:09.017Z"
   },
   {
    "duration": -156,
    "start_time": "2021-09-13T10:18:09.022Z"
   },
   {
    "duration": -160,
    "start_time": "2021-09-13T10:18:09.027Z"
   },
   {
    "duration": -168,
    "start_time": "2021-09-13T10:18:09.036Z"
   },
   {
    "duration": -172,
    "start_time": "2021-09-13T10:18:09.042Z"
   },
   {
    "duration": -174,
    "start_time": "2021-09-13T10:18:09.045Z"
   },
   {
    "duration": -177,
    "start_time": "2021-09-13T10:18:09.050Z"
   },
   {
    "duration": -181,
    "start_time": "2021-09-13T10:18:09.055Z"
   },
   {
    "duration": -184,
    "start_time": "2021-09-13T10:18:09.060Z"
   },
   {
    "duration": -187,
    "start_time": "2021-09-13T10:18:09.064Z"
   },
   {
    "duration": -189,
    "start_time": "2021-09-13T10:18:09.068Z"
   },
   {
    "duration": -194,
    "start_time": "2021-09-13T10:18:09.074Z"
   },
   {
    "duration": -197,
    "start_time": "2021-09-13T10:18:09.079Z"
   },
   {
    "duration": -200,
    "start_time": "2021-09-13T10:18:09.083Z"
   },
   {
    "duration": -204,
    "start_time": "2021-09-13T10:18:09.089Z"
   },
   {
    "duration": -207,
    "start_time": "2021-09-13T10:18:09.093Z"
   },
   {
    "duration": -210,
    "start_time": "2021-09-13T10:18:09.097Z"
   },
   {
    "duration": -213,
    "start_time": "2021-09-13T10:18:09.102Z"
   },
   {
    "duration": -217,
    "start_time": "2021-09-13T10:18:09.107Z"
   },
   {
    "duration": 10,
    "start_time": "2021-09-13T10:18:48.292Z"
   },
   {
    "duration": 8,
    "start_time": "2021-09-13T10:18:48.304Z"
   },
   {
    "duration": 41,
    "start_time": "2021-09-13T10:18:48.314Z"
   },
   {
    "duration": 32,
    "start_time": "2021-09-13T10:18:48.357Z"
   },
   {
    "duration": 40,
    "start_time": "2021-09-13T10:18:48.392Z"
   },
   {
    "duration": 9,
    "start_time": "2021-09-13T10:18:48.434Z"
   },
   {
    "duration": 78,
    "start_time": "2021-09-13T10:18:48.445Z"
   },
   {
    "duration": 9,
    "start_time": "2021-09-13T10:18:48.525Z"
   },
   {
    "duration": 70,
    "start_time": "2021-09-13T10:18:48.538Z"
   },
   {
    "duration": 11,
    "start_time": "2021-09-13T10:18:48.611Z"
   },
   {
    "duration": 17,
    "start_time": "2021-09-13T10:18:48.624Z"
   },
   {
    "duration": 838,
    "start_time": "2021-09-13T10:18:48.644Z"
   },
   {
    "duration": -86,
    "start_time": "2021-09-13T10:18:49.571Z"
   },
   {
    "duration": -95,
    "start_time": "2021-09-13T10:18:49.581Z"
   },
   {
    "duration": -102,
    "start_time": "2021-09-13T10:18:49.590Z"
   },
   {
    "duration": -111,
    "start_time": "2021-09-13T10:18:49.600Z"
   },
   {
    "duration": -116,
    "start_time": "2021-09-13T10:18:49.607Z"
   },
   {
    "duration": -122,
    "start_time": "2021-09-13T10:18:49.615Z"
   },
   {
    "duration": -128,
    "start_time": "2021-09-13T10:18:49.623Z"
   },
   {
    "duration": -133,
    "start_time": "2021-09-13T10:18:49.629Z"
   },
   {
    "duration": -136,
    "start_time": "2021-09-13T10:18:49.634Z"
   },
   {
    "duration": -141,
    "start_time": "2021-09-13T10:18:49.640Z"
   },
   {
    "duration": -144,
    "start_time": "2021-09-13T10:18:49.645Z"
   },
   {
    "duration": -150,
    "start_time": "2021-09-13T10:18:49.652Z"
   },
   {
    "duration": -154,
    "start_time": "2021-09-13T10:18:49.657Z"
   },
   {
    "duration": -158,
    "start_time": "2021-09-13T10:18:49.663Z"
   },
   {
    "duration": 1684,
    "start_time": "2021-09-13T10:19:39.697Z"
   },
   {
    "duration": 131,
    "start_time": "2021-09-13T10:19:41.383Z"
   },
   {
    "duration": 5,
    "start_time": "2021-09-13T10:19:41.517Z"
   },
   {
    "duration": 25,
    "start_time": "2021-09-13T10:19:41.526Z"
   },
   {
    "duration": 29,
    "start_time": "2021-09-13T10:19:41.554Z"
   },
   {
    "duration": 24,
    "start_time": "2021-09-13T10:19:41.586Z"
   },
   {
    "duration": 17,
    "start_time": "2021-09-13T10:19:41.613Z"
   },
   {
    "duration": 52,
    "start_time": "2021-09-13T10:19:41.632Z"
   },
   {
    "duration": 9,
    "start_time": "2021-09-13T10:19:41.688Z"
   },
   {
    "duration": 7,
    "start_time": "2021-09-13T10:19:41.700Z"
   },
   {
    "duration": 12,
    "start_time": "2021-09-13T10:19:41.709Z"
   },
   {
    "duration": 13,
    "start_time": "2021-09-13T10:19:41.723Z"
   },
   {
    "duration": 167,
    "start_time": "2021-09-13T10:19:41.738Z"
   },
   {
    "duration": 6,
    "start_time": "2021-09-13T10:19:41.907Z"
   },
   {
    "duration": 125,
    "start_time": "2021-09-13T10:19:41.915Z"
   },
   {
    "duration": 10,
    "start_time": "2021-09-13T10:19:42.042Z"
   },
   {
    "duration": 107,
    "start_time": "2021-09-13T10:19:42.054Z"
   },
   {
    "duration": 30,
    "start_time": "2021-09-13T10:19:42.163Z"
   },
   {
    "duration": 28,
    "start_time": "2021-09-13T10:19:42.195Z"
   },
   {
    "duration": 6,
    "start_time": "2021-09-13T10:19:42.225Z"
   },
   {
    "duration": 94,
    "start_time": "2021-09-13T10:19:42.233Z"
   },
   {
    "duration": 5,
    "start_time": "2021-09-13T10:19:42.330Z"
   },
   {
    "duration": 26,
    "start_time": "2021-09-13T10:19:42.337Z"
   },
   {
    "duration": 24,
    "start_time": "2021-09-13T10:19:42.382Z"
   },
   {
    "duration": 45,
    "start_time": "2021-09-13T10:19:42.409Z"
   },
   {
    "duration": 27,
    "start_time": "2021-09-13T10:19:42.456Z"
   },
   {
    "duration": 50,
    "start_time": "2021-09-13T10:19:42.490Z"
   },
   {
    "duration": 61,
    "start_time": "2021-09-13T10:19:42.543Z"
   },
   {
    "duration": 23,
    "start_time": "2021-09-13T10:19:42.606Z"
   },
   {
    "duration": 31,
    "start_time": "2021-09-13T10:19:42.632Z"
   },
   {
    "duration": 24,
    "start_time": "2021-09-13T10:19:42.683Z"
   },
   {
    "duration": 5,
    "start_time": "2021-09-13T10:19:42.710Z"
   },
   {
    "duration": 655,
    "start_time": "2021-09-13T10:19:42.717Z"
   },
   {
    "duration": 9,
    "start_time": "2021-09-13T10:19:43.375Z"
   },
   {
    "duration": 351,
    "start_time": "2021-09-13T10:19:43.387Z"
   },
   {
    "duration": 6,
    "start_time": "2021-09-13T10:19:43.741Z"
   },
   {
    "duration": 354,
    "start_time": "2021-09-13T10:19:43.749Z"
   },
   {
    "duration": 10,
    "start_time": "2021-09-13T10:19:44.105Z"
   },
   {
    "duration": 309,
    "start_time": "2021-09-13T10:19:44.118Z"
   },
   {
    "duration": 376,
    "start_time": "2021-09-13T10:19:44.430Z"
   },
   {
    "duration": 12,
    "start_time": "2021-09-13T10:19:44.809Z"
   },
   {
    "duration": 1240,
    "start_time": "2021-09-13T10:19:44.823Z"
   },
   {
    "duration": 83,
    "start_time": "2021-09-13T10:19:46.065Z"
   },
   {
    "duration": 10,
    "start_time": "2021-09-13T10:19:46.151Z"
   },
   {
    "duration": 31,
    "start_time": "2021-09-13T10:19:46.163Z"
   },
   {
    "duration": 24,
    "start_time": "2021-09-13T10:19:46.197Z"
   },
   {
    "duration": 47,
    "start_time": "2021-09-13T10:19:46.224Z"
   },
   {
    "duration": 17,
    "start_time": "2021-09-13T10:19:46.274Z"
   },
   {
    "duration": 36,
    "start_time": "2021-09-13T10:19:46.294Z"
   },
   {
    "duration": 42,
    "start_time": "2021-09-13T10:19:46.332Z"
   },
   {
    "duration": 10,
    "start_time": "2021-09-13T10:19:46.377Z"
   },
   {
    "duration": 42,
    "start_time": "2021-09-13T10:19:46.390Z"
   },
   {
    "duration": 9,
    "start_time": "2021-09-13T10:19:46.434Z"
   },
   {
    "duration": 104,
    "start_time": "2021-09-13T10:19:46.445Z"
   },
   {
    "duration": 10,
    "start_time": "2021-09-13T10:19:46.552Z"
   },
   {
    "duration": 83,
    "start_time": "2021-09-13T10:19:46.564Z"
   },
   {
    "duration": 15,
    "start_time": "2021-09-13T10:19:46.650Z"
   },
   {
    "duration": 12,
    "start_time": "2021-09-13T10:19:46.683Z"
   },
   {
    "duration": 1127,
    "start_time": "2021-09-13T10:19:46.698Z"
   },
   {
    "duration": 832,
    "start_time": "2021-09-13T10:19:47.828Z"
   },
   {
    "duration": 728,
    "start_time": "2021-09-13T10:19:48.663Z"
   },
   {
    "duration": 672,
    "start_time": "2021-09-13T10:19:49.393Z"
   },
   {
    "duration": 569,
    "start_time": "2021-09-13T10:19:50.067Z"
   },
   {
    "duration": 12,
    "start_time": "2021-09-13T10:19:50.639Z"
   },
   {
    "duration": 337,
    "start_time": "2021-09-13T10:19:50.654Z"
   },
   {
    "duration": 9,
    "start_time": "2021-09-13T10:19:50.994Z"
   },
   {
    "duration": 360,
    "start_time": "2021-09-13T10:19:51.006Z"
   },
   {
    "duration": 413,
    "start_time": "2021-09-13T10:19:51.369Z"
   },
   {
    "duration": 274,
    "start_time": "2021-09-13T10:19:51.785Z"
   },
   {
    "duration": 237,
    "start_time": "2021-09-13T10:19:52.061Z"
   },
   {
    "duration": 1158,
    "start_time": "2021-09-13T10:19:52.300Z"
   },
   {
    "duration": 1201,
    "start_time": "2021-09-13T10:19:53.460Z"
   },
   {
    "duration": 1260,
    "start_time": "2021-09-13T10:19:54.664Z"
   }
  ],
  "kernelspec": {
   "display_name": "Python 3",
   "language": "python",
   "name": "python3"
  },
  "language_info": {
   "codemirror_mode": {
    "name": "ipython",
    "version": 3
   },
   "file_extension": ".py",
   "mimetype": "text/x-python",
   "name": "python",
   "nbconvert_exporter": "python",
   "pygments_lexer": "ipython3",
   "version": "3.8.5"
  },
  "toc": {
   "base_numbering": 1,
   "nav_menu": {},
   "number_sections": true,
   "sideBar": true,
   "skip_h1_title": false,
   "title_cell": "Table of Contents",
   "title_sidebar": "Contents",
   "toc_cell": false,
   "toc_position": {},
   "toc_section_display": true,
   "toc_window_display": false
  }
 },
 "nbformat": 4,
 "nbformat_minor": 2
}
